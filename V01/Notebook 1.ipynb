{
  "cells": [
    {
      "cell_type": "markdown",
      "source": "La idea de este proyecto es usarlo como ejemplo, para implementarlo en el proyecto de Bitcoin y hacer una comparativa entre ambas predicciones LGBM vs LSTM. ",
      "metadata": {
        "formattedRanges": [],
        "cell_id": "fdb7a9d67a7a49049d59927dbb9daed2",
        "deepnote_cell_type": "text-cell-p"
      }
    },
    {
      "cell_type": "code",
      "source": "import tensorflow as tf\nimport os\nimport pandas as pd \nimport numpy as np \nimport seaborn as sns",
      "metadata": {
        "source_hash": "d1ff491a",
        "execution_start": 1689619514822,
        "execution_millis": 6864,
        "deepnote_to_be_reexecuted": false,
        "cell_id": "68e6ae994d694db58aeb85852485e1f9",
        "deepnote_cell_type": "code"
      },
      "outputs": [
        {
          "name": "stderr",
          "text": "2023-07-17 18:45:14.779104: I tensorflow/core/platform/cpu_feature_guard.cc:193] This TensorFlow binary is optimized with oneAPI Deep Neural Network Library (oneDNN) to use the following CPU instructions in performance-critical operations:  AVX2 AVX512F FMA\nTo enable them in other operations, rebuild TensorFlow with the appropriate compiler flags.\n2023-07-17 18:45:14.968676: W tensorflow/stream_executor/platform/default/dso_loader.cc:64] Could not load dynamic library 'libcudart.so.11.0'; dlerror: libcudart.so.11.0: cannot open shared object file: No such file or directory\n2023-07-17 18:45:14.968715: I tensorflow/stream_executor/cuda/cudart_stub.cc:29] Ignore above cudart dlerror if you do not have a GPU set up on your machine.\n2023-07-17 18:45:15.025612: E tensorflow/stream_executor/cuda/cuda_blas.cc:2981] Unable to register cuBLAS factory: Attempting to register factory for plugin cuBLAS when one has already been registered\n2023-07-17 18:45:16.529132: W tensorflow/stream_executor/platform/default/dso_loader.cc:64] Could not load dynamic library 'libnvinfer.so.7'; dlerror: libnvinfer.so.7: cannot open shared object file: No such file or directory\n2023-07-17 18:45:16.529216: W tensorflow/stream_executor/platform/default/dso_loader.cc:64] Could not load dynamic library 'libnvinfer_plugin.so.7'; dlerror: libnvinfer_plugin.so.7: cannot open shared object file: No such file or directory\n2023-07-17 18:45:16.529226: W tensorflow/compiler/tf2tensorrt/utils/py_utils.cc:38] TF-TRT Warning: Cannot dlopen some TensorRT libraries. If you would like to use Nvidia GPU with TensorRT, please make sure the missing libraries mentioned above are installed properly.\n",
          "output_type": "stream"
        }
      ],
      "execution_count": 1
    },
    {
      "cell_type": "markdown",
      "source": "Extraemos data de temperatura, presión, etc...  ",
      "metadata": {
        "formattedRanges": [],
        "cell_id": "2c5e574ca58044a684df27559da8467e",
        "deepnote_cell_type": "text-cell-p"
      }
    },
    {
      "cell_type": "code",
      "source": "zip_path = tf.keras.utils.get_file(\n    origin='https://storage.googleapis.com/tensorflow/tf-keras-datasets/jena_climate_2009_2016.csv.zip', \n    fname='jena_climate_2009_2016.csv.zip',\n    extract=True)\ncsv_path, _ = os.path.splitext(zip_path)",
      "metadata": {
        "source_hash": "c16cc21d",
        "execution_start": 1689619521548,
        "execution_millis": 724,
        "deepnote_to_be_reexecuted": false,
        "cell_id": "504056d31dde4887aeab3cc121ba9cb6",
        "deepnote_cell_type": "code"
      },
      "outputs": [
        {
          "name": "stdout",
          "text": "Downloading data from https://storage.googleapis.com/tensorflow/tf-keras-datasets/jena_climate_2009_2016.csv.zip\n13568290/13568290 [==============================] - 0s 0us/step\n",
          "output_type": "stream"
        }
      ],
      "execution_count": 2
    },
    {
      "cell_type": "markdown",
      "source": "el dataframe se ve de la siguiente forma, ",
      "metadata": {
        "formattedRanges": [],
        "cell_id": "6533f11bcef74fcfbd8e5edc9405b18a",
        "deepnote_cell_type": "text-cell-p"
      }
    },
    {
      "cell_type": "code",
      "source": "df = pd.read_csv(csv_path)\ndf.head()  ",
      "metadata": {
        "source_hash": "e055c6c0",
        "execution_start": 1689619522157,
        "execution_millis": 1724,
        "deepnote_to_be_reexecuted": false,
        "cell_id": "f9c08114fcaf4250ba55d293f0644719",
        "deepnote_cell_type": "code"
      },
      "outputs": [
        {
          "output_type": "execute_result",
          "execution_count": 3,
          "data": {
            "application/vnd.deepnote.dataframe.v3+json": {
              "column_count": 15,
              "row_count": 5,
              "columns": [
                {
                  "name": "Date Time",
                  "dtype": "object",
                  "stats": {
                    "unique_count": 5,
                    "nan_count": 0,
                    "categories": [
                      {
                        "name": "01.01.2009 00:10:00",
                        "count": 1
                      },
                      {
                        "name": "01.01.2009 00:20:00",
                        "count": 1
                      },
                      {
                        "name": "3 others",
                        "count": 3
                      }
                    ]
                  }
                },
                {
                  "name": "p (mbar)",
                  "dtype": "float64",
                  "stats": {
                    "unique_count": 4,
                    "nan_count": 0,
                    "min": "996.51",
                    "max": "996.57",
                    "histogram": [
                      {
                        "bin_start": 996.51,
                        "bin_end": 996.516,
                        "count": 2
                      },
                      {
                        "bin_start": 996.516,
                        "bin_end": 996.522,
                        "count": 1
                      },
                      {
                        "bin_start": 996.522,
                        "bin_end": 996.528,
                        "count": 0
                      },
                      {
                        "bin_start": 996.528,
                        "bin_end": 996.534,
                        "count": 1
                      },
                      {
                        "bin_start": 996.534,
                        "bin_end": 996.54,
                        "count": 0
                      },
                      {
                        "bin_start": 996.54,
                        "bin_end": 996.546,
                        "count": 0
                      },
                      {
                        "bin_start": 996.546,
                        "bin_end": 996.552,
                        "count": 0
                      },
                      {
                        "bin_start": 996.552,
                        "bin_end": 996.558,
                        "count": 0
                      },
                      {
                        "bin_start": 996.558,
                        "bin_end": 996.5640000000001,
                        "count": 0
                      },
                      {
                        "bin_start": 996.5640000000001,
                        "bin_end": 996.57,
                        "count": 1
                      }
                    ]
                  }
                },
                {
                  "name": "T (degC)",
                  "dtype": "float64",
                  "stats": {
                    "unique_count": 5,
                    "nan_count": 0,
                    "min": "-8.51",
                    "max": "-8.02",
                    "histogram": [
                      {
                        "bin_start": -8.51,
                        "bin_end": -8.461,
                        "count": 1
                      },
                      {
                        "bin_start": -8.461,
                        "bin_end": -8.411999999999999,
                        "count": 0
                      },
                      {
                        "bin_start": -8.411999999999999,
                        "bin_end": -8.363,
                        "count": 1
                      },
                      {
                        "bin_start": -8.363,
                        "bin_end": -8.314,
                        "count": 0
                      },
                      {
                        "bin_start": -8.314,
                        "bin_end": -8.265,
                        "count": 2
                      },
                      {
                        "bin_start": -8.265,
                        "bin_end": -8.216,
                        "count": 0
                      },
                      {
                        "bin_start": -8.216,
                        "bin_end": -8.167,
                        "count": 0
                      },
                      {
                        "bin_start": -8.167,
                        "bin_end": -8.118,
                        "count": 0
                      },
                      {
                        "bin_start": -8.118,
                        "bin_end": -8.068999999999999,
                        "count": 0
                      },
                      {
                        "bin_start": -8.068999999999999,
                        "bin_end": -8.02,
                        "count": 1
                      }
                    ]
                  }
                },
                {
                  "name": "Tpot (K)",
                  "dtype": "float64",
                  "stats": {
                    "unique_count": 5,
                    "nan_count": 0,
                    "min": "264.91",
                    "max": "265.4",
                    "histogram": [
                      {
                        "bin_start": 264.91,
                        "bin_end": 264.959,
                        "count": 1
                      },
                      {
                        "bin_start": 264.959,
                        "bin_end": 265.00800000000004,
                        "count": 0
                      },
                      {
                        "bin_start": 265.00800000000004,
                        "bin_end": 265.057,
                        "count": 1
                      },
                      {
                        "bin_start": 265.057,
                        "bin_end": 265.106,
                        "count": 0
                      },
                      {
                        "bin_start": 265.106,
                        "bin_end": 265.155,
                        "count": 2
                      },
                      {
                        "bin_start": 265.155,
                        "bin_end": 265.204,
                        "count": 0
                      },
                      {
                        "bin_start": 265.204,
                        "bin_end": 265.253,
                        "count": 0
                      },
                      {
                        "bin_start": 265.253,
                        "bin_end": 265.30199999999996,
                        "count": 0
                      },
                      {
                        "bin_start": 265.30199999999996,
                        "bin_end": 265.351,
                        "count": 0
                      },
                      {
                        "bin_start": 265.351,
                        "bin_end": 265.4,
                        "count": 1
                      }
                    ]
                  }
                },
                {
                  "name": "Tdew (degC)",
                  "dtype": "float64",
                  "stats": {
                    "unique_count": 5,
                    "nan_count": 0,
                    "min": "-9.31",
                    "max": "-8.9",
                    "histogram": [
                      {
                        "bin_start": -9.31,
                        "bin_end": -9.269,
                        "count": 2
                      },
                      {
                        "bin_start": -9.269,
                        "bin_end": -9.228,
                        "count": 0
                      },
                      {
                        "bin_start": -9.228,
                        "bin_end": -9.187000000000001,
                        "count": 0
                      },
                      {
                        "bin_start": -9.187000000000001,
                        "bin_end": -9.146,
                        "count": 0
                      },
                      {
                        "bin_start": -9.146,
                        "bin_end": -9.105,
                        "count": 0
                      },
                      {
                        "bin_start": -9.105,
                        "bin_end": -9.064,
                        "count": 1
                      },
                      {
                        "bin_start": -9.064,
                        "bin_end": -9.023,
                        "count": 1
                      },
                      {
                        "bin_start": -9.023,
                        "bin_end": -8.982000000000001,
                        "count": 0
                      },
                      {
                        "bin_start": -8.982000000000001,
                        "bin_end": -8.941,
                        "count": 0
                      },
                      {
                        "bin_start": -8.941,
                        "bin_end": -8.9,
                        "count": 1
                      }
                    ]
                  }
                },
                {
                  "name": "rh (%)",
                  "dtype": "float64",
                  "stats": {
                    "unique_count": 5,
                    "nan_count": 0,
                    "min": "93.3",
                    "max": "94.2",
                    "histogram": [
                      {
                        "bin_start": 93.3,
                        "bin_end": 93.39,
                        "count": 1
                      },
                      {
                        "bin_start": 93.39,
                        "bin_end": 93.48,
                        "count": 1
                      },
                      {
                        "bin_start": 93.48,
                        "bin_end": 93.57,
                        "count": 0
                      },
                      {
                        "bin_start": 93.57,
                        "bin_end": 93.66,
                        "count": 0
                      },
                      {
                        "bin_start": 93.66,
                        "bin_end": 93.75,
                        "count": 0
                      },
                      {
                        "bin_start": 93.75,
                        "bin_end": 93.84,
                        "count": 0
                      },
                      {
                        "bin_start": 93.84,
                        "bin_end": 93.93,
                        "count": 1
                      },
                      {
                        "bin_start": 93.93,
                        "bin_end": 94.02,
                        "count": 0
                      },
                      {
                        "bin_start": 94.02,
                        "bin_end": 94.11,
                        "count": 1
                      },
                      {
                        "bin_start": 94.11,
                        "bin_end": 94.2,
                        "count": 1
                      }
                    ]
                  }
                },
                {
                  "name": "VPmax (mbar)",
                  "dtype": "float64",
                  "stats": {
                    "unique_count": 5,
                    "nan_count": 0,
                    "min": "3.21",
                    "max": "3.33",
                    "histogram": [
                      {
                        "bin_start": 3.21,
                        "bin_end": 3.222,
                        "count": 1
                      },
                      {
                        "bin_start": 3.222,
                        "bin_end": 3.234,
                        "count": 1
                      },
                      {
                        "bin_start": 3.234,
                        "bin_end": 3.246,
                        "count": 0
                      },
                      {
                        "bin_start": 3.246,
                        "bin_end": 3.258,
                        "count": 0
                      },
                      {
                        "bin_start": 3.258,
                        "bin_end": 3.27,
                        "count": 1
                      },
                      {
                        "bin_start": 3.27,
                        "bin_end": 3.282,
                        "count": 1
                      },
                      {
                        "bin_start": 3.282,
                        "bin_end": 3.294,
                        "count": 0
                      },
                      {
                        "bin_start": 3.294,
                        "bin_end": 3.306,
                        "count": 0
                      },
                      {
                        "bin_start": 3.306,
                        "bin_end": 3.318,
                        "count": 0
                      },
                      {
                        "bin_start": 3.318,
                        "bin_end": 3.33,
                        "count": 1
                      }
                    ]
                  }
                },
                {
                  "name": "VPact (mbar)",
                  "dtype": "float64",
                  "stats": {
                    "unique_count": 5,
                    "nan_count": 0,
                    "min": "3.01",
                    "max": "3.11",
                    "histogram": [
                      {
                        "bin_start": 3.01,
                        "bin_end": 3.0199999999999996,
                        "count": 1
                      },
                      {
                        "bin_start": 3.0199999999999996,
                        "bin_end": 3.03,
                        "count": 1
                      },
                      {
                        "bin_start": 3.03,
                        "bin_end": 3.04,
                        "count": 0
                      },
                      {
                        "bin_start": 3.04,
                        "bin_end": 3.05,
                        "count": 0
                      },
                      {
                        "bin_start": 3.05,
                        "bin_end": 3.0599999999999996,
                        "count": 0
                      },
                      {
                        "bin_start": 3.0599999999999996,
                        "bin_end": 3.07,
                        "count": 0
                      },
                      {
                        "bin_start": 3.07,
                        "bin_end": 3.08,
                        "count": 1
                      },
                      {
                        "bin_start": 3.08,
                        "bin_end": 3.09,
                        "count": 1
                      },
                      {
                        "bin_start": 3.09,
                        "bin_end": 3.0999999999999996,
                        "count": 0
                      },
                      {
                        "bin_start": 3.0999999999999996,
                        "bin_end": 3.11,
                        "count": 1
                      }
                    ]
                  }
                },
                {
                  "name": "VPdef (mbar)",
                  "dtype": "float64",
                  "stats": {
                    "unique_count": 4,
                    "nan_count": 0,
                    "min": "0.19",
                    "max": "0.22",
                    "histogram": [
                      {
                        "bin_start": 0.19,
                        "bin_end": 0.193,
                        "count": 2
                      },
                      {
                        "bin_start": 0.193,
                        "bin_end": 0.196,
                        "count": 0
                      },
                      {
                        "bin_start": 0.196,
                        "bin_end": 0.199,
                        "count": 0
                      },
                      {
                        "bin_start": 0.199,
                        "bin_end": 0.202,
                        "count": 1
                      },
                      {
                        "bin_start": 0.202,
                        "bin_end": 0.20500000000000002,
                        "count": 0
                      },
                      {
                        "bin_start": 0.20500000000000002,
                        "bin_end": 0.20800000000000002,
                        "count": 0
                      },
                      {
                        "bin_start": 0.20800000000000002,
                        "bin_end": 0.211,
                        "count": 1
                      },
                      {
                        "bin_start": 0.211,
                        "bin_end": 0.214,
                        "count": 0
                      },
                      {
                        "bin_start": 0.214,
                        "bin_end": 0.217,
                        "count": 0
                      },
                      {
                        "bin_start": 0.217,
                        "bin_end": 0.22,
                        "count": 1
                      }
                    ]
                  }
                },
                {
                  "name": "sh (g/kg)",
                  "dtype": "float64",
                  "stats": {
                    "unique_count": 4,
                    "nan_count": 0,
                    "min": "1.88",
                    "max": "1.94",
                    "histogram": [
                      {
                        "bin_start": 1.88,
                        "bin_end": 1.886,
                        "count": 1
                      },
                      {
                        "bin_start": 1.886,
                        "bin_end": 1.892,
                        "count": 1
                      },
                      {
                        "bin_start": 1.892,
                        "bin_end": 1.898,
                        "count": 0
                      },
                      {
                        "bin_start": 1.898,
                        "bin_end": 1.904,
                        "count": 0
                      },
                      {
                        "bin_start": 1.904,
                        "bin_end": 1.91,
                        "count": 0
                      },
                      {
                        "bin_start": 1.91,
                        "bin_end": 1.916,
                        "count": 0
                      },
                      {
                        "bin_start": 1.916,
                        "bin_end": 1.922,
                        "count": 2
                      },
                      {
                        "bin_start": 1.922,
                        "bin_end": 1.928,
                        "count": 0
                      },
                      {
                        "bin_start": 1.928,
                        "bin_end": 1.934,
                        "count": 0
                      },
                      {
                        "bin_start": 1.934,
                        "bin_end": 1.94,
                        "count": 1
                      }
                    ]
                  }
                },
                {
                  "name": "H2OC (mmol/mol)",
                  "dtype": "float64",
                  "stats": {
                    "unique_count": 5,
                    "nan_count": 0,
                    "min": "3.02",
                    "max": "3.12",
                    "histogram": [
                      {
                        "bin_start": 3.02,
                        "bin_end": 3.0300000000000002,
                        "count": 2
                      },
                      {
                        "bin_start": 3.0300000000000002,
                        "bin_end": 3.04,
                        "count": 0
                      },
                      {
                        "bin_start": 3.04,
                        "bin_end": 3.05,
                        "count": 0
                      },
                      {
                        "bin_start": 3.05,
                        "bin_end": 3.06,
                        "count": 0
                      },
                      {
                        "bin_start": 3.06,
                        "bin_end": 3.0700000000000003,
                        "count": 0
                      },
                      {
                        "bin_start": 3.0700000000000003,
                        "bin_end": 3.08,
                        "count": 0
                      },
                      {
                        "bin_start": 3.08,
                        "bin_end": 3.09,
                        "count": 1
                      },
                      {
                        "bin_start": 3.09,
                        "bin_end": 3.1,
                        "count": 1
                      },
                      {
                        "bin_start": 3.1,
                        "bin_end": 3.1100000000000003,
                        "count": 0
                      },
                      {
                        "bin_start": 3.1100000000000003,
                        "bin_end": 3.12,
                        "count": 1
                      }
                    ]
                  }
                },
                {
                  "name": "rho (g/m**3)",
                  "dtype": "float64",
                  "stats": {
                    "unique_count": 5,
                    "nan_count": 0,
                    "min": "1307.75",
                    "max": "1310.24",
                    "histogram": [
                      {
                        "bin_start": 1307.75,
                        "bin_end": 1307.999,
                        "count": 1
                      },
                      {
                        "bin_start": 1307.999,
                        "bin_end": 1308.248,
                        "count": 0
                      },
                      {
                        "bin_start": 1308.248,
                        "bin_end": 1308.497,
                        "count": 0
                      },
                      {
                        "bin_start": 1308.497,
                        "bin_end": 1308.746,
                        "count": 0
                      },
                      {
                        "bin_start": 1308.746,
                        "bin_end": 1308.995,
                        "count": 0
                      },
                      {
                        "bin_start": 1308.995,
                        "bin_end": 1309.244,
                        "count": 2
                      },
                      {
                        "bin_start": 1309.244,
                        "bin_end": 1309.493,
                        "count": 0
                      },
                      {
                        "bin_start": 1309.493,
                        "bin_end": 1309.742,
                        "count": 0
                      },
                      {
                        "bin_start": 1309.742,
                        "bin_end": 1309.991,
                        "count": 1
                      },
                      {
                        "bin_start": 1309.991,
                        "bin_end": 1310.24,
                        "count": 1
                      }
                    ]
                  }
                },
                {
                  "name": "wv (m/s)",
                  "dtype": "float64",
                  "stats": {
                    "unique_count": 5,
                    "nan_count": 0,
                    "min": "0.19",
                    "max": "1.03",
                    "histogram": [
                      {
                        "bin_start": 0.19,
                        "bin_end": 0.274,
                        "count": 1
                      },
                      {
                        "bin_start": 0.274,
                        "bin_end": 0.358,
                        "count": 2
                      },
                      {
                        "bin_start": 0.358,
                        "bin_end": 0.442,
                        "count": 0
                      },
                      {
                        "bin_start": 0.442,
                        "bin_end": 0.526,
                        "count": 0
                      },
                      {
                        "bin_start": 0.526,
                        "bin_end": 0.6100000000000001,
                        "count": 0
                      },
                      {
                        "bin_start": 0.6100000000000001,
                        "bin_end": 0.694,
                        "count": 0
                      },
                      {
                        "bin_start": 0.694,
                        "bin_end": 0.778,
                        "count": 1
                      },
                      {
                        "bin_start": 0.778,
                        "bin_end": 0.8620000000000001,
                        "count": 0
                      },
                      {
                        "bin_start": 0.8620000000000001,
                        "bin_end": 0.946,
                        "count": 0
                      },
                      {
                        "bin_start": 0.946,
                        "bin_end": 1.03,
                        "count": 1
                      }
                    ]
                  }
                },
                {
                  "name": "max. wv (m/s)",
                  "dtype": "float64",
                  "stats": {
                    "unique_count": 4,
                    "nan_count": 0,
                    "min": "0.5",
                    "max": "1.75",
                    "histogram": [
                      {
                        "bin_start": 0.5,
                        "bin_end": 0.625,
                        "count": 1
                      },
                      {
                        "bin_start": 0.625,
                        "bin_end": 0.75,
                        "count": 2
                      },
                      {
                        "bin_start": 0.75,
                        "bin_end": 0.875,
                        "count": 0
                      },
                      {
                        "bin_start": 0.875,
                        "bin_end": 1,
                        "count": 0
                      },
                      {
                        "bin_start": 1,
                        "bin_end": 1.125,
                        "count": 0
                      },
                      {
                        "bin_start": 1.125,
                        "bin_end": 1.25,
                        "count": 0
                      },
                      {
                        "bin_start": 1.25,
                        "bin_end": 1.375,
                        "count": 0
                      },
                      {
                        "bin_start": 1.375,
                        "bin_end": 1.5,
                        "count": 0
                      },
                      {
                        "bin_start": 1.5,
                        "bin_end": 1.625,
                        "count": 1
                      },
                      {
                        "bin_start": 1.625,
                        "bin_end": 1.75,
                        "count": 1
                      }
                    ]
                  }
                },
                {
                  "name": "wd (deg)",
                  "dtype": "float64",
                  "stats": {
                    "unique_count": 5,
                    "nan_count": 0,
                    "min": "136.1",
                    "max": "214.3",
                    "histogram": [
                      {
                        "bin_start": 136.1,
                        "bin_end": 143.92,
                        "count": 1
                      },
                      {
                        "bin_start": 143.92,
                        "bin_end": 151.74,
                        "count": 0
                      },
                      {
                        "bin_start": 151.74,
                        "bin_end": 159.56,
                        "count": 1
                      },
                      {
                        "bin_start": 159.56,
                        "bin_end": 167.38,
                        "count": 0
                      },
                      {
                        "bin_start": 167.38,
                        "bin_end": 175.2,
                        "count": 1
                      },
                      {
                        "bin_start": 175.2,
                        "bin_end": 183.02,
                        "count": 0
                      },
                      {
                        "bin_start": 183.02,
                        "bin_end": 190.84,
                        "count": 0
                      },
                      {
                        "bin_start": 190.84,
                        "bin_end": 198.66000000000003,
                        "count": 1
                      },
                      {
                        "bin_start": 198.66000000000003,
                        "bin_end": 206.48000000000002,
                        "count": 0
                      },
                      {
                        "bin_start": 206.48000000000002,
                        "bin_end": 214.3,
                        "count": 1
                      }
                    ]
                  }
                },
                {
                  "name": "_deepnote_index_column",
                  "dtype": "int64"
                }
              ],
              "rows": [
                {
                  "Date Time": "01.01.2009 00:10:00",
                  "p (mbar)": 996.52,
                  "T (degC)": -8.02,
                  "Tpot (K)": 265.4,
                  "Tdew (degC)": -8.9,
                  "rh (%)": 93.3,
                  "VPmax (mbar)": 3.33,
                  "VPact (mbar)": 3.11,
                  "VPdef (mbar)": 0.22,
                  "sh (g/kg)": 1.94,
                  "H2OC (mmol/mol)": 3.12,
                  "rho (g/m**3)": 1307.75,
                  "wv (m/s)": 1.03,
                  "max. wv (m/s)": 1.75,
                  "wd (deg)": 152.3,
                  "_deepnote_index_column": 0
                },
                {
                  "Date Time": "01.01.2009 00:20:00",
                  "p (mbar)": 996.57,
                  "T (degC)": -8.41,
                  "Tpot (K)": 265.01,
                  "Tdew (degC)": -9.28,
                  "rh (%)": 93.4,
                  "VPmax (mbar)": 3.23,
                  "VPact (mbar)": 3.02,
                  "VPdef (mbar)": 0.21,
                  "sh (g/kg)": 1.89,
                  "H2OC (mmol/mol)": 3.03,
                  "rho (g/m**3)": 1309.8,
                  "wv (m/s)": 0.72,
                  "max. wv (m/s)": 1.5,
                  "wd (deg)": 136.1,
                  "_deepnote_index_column": 1
                },
                {
                  "Date Time": "01.01.2009 00:30:00",
                  "p (mbar)": 996.53,
                  "T (degC)": -8.51,
                  "Tpot (K)": 264.91,
                  "Tdew (degC)": -9.31,
                  "rh (%)": 93.9,
                  "VPmax (mbar)": 3.21,
                  "VPact (mbar)": 3.01,
                  "VPdef (mbar)": 0.2,
                  "sh (g/kg)": 1.88,
                  "H2OC (mmol/mol)": 3.02,
                  "rho (g/m**3)": 1310.24,
                  "wv (m/s)": 0.19,
                  "max. wv (m/s)": 0.63,
                  "wd (deg)": 171.6,
                  "_deepnote_index_column": 2
                },
                {
                  "Date Time": "01.01.2009 00:40:00",
                  "p (mbar)": 996.51,
                  "T (degC)": -8.31,
                  "Tpot (K)": 265.12,
                  "Tdew (degC)": -9.07,
                  "rh (%)": 94.2,
                  "VPmax (mbar)": 3.26,
                  "VPact (mbar)": 3.07,
                  "VPdef (mbar)": 0.19,
                  "sh (g/kg)": 1.92,
                  "H2OC (mmol/mol)": 3.08,
                  "rho (g/m**3)": 1309.19,
                  "wv (m/s)": 0.34,
                  "max. wv (m/s)": 0.5,
                  "wd (deg)": 198,
                  "_deepnote_index_column": 3
                },
                {
                  "Date Time": "01.01.2009 00:50:00",
                  "p (mbar)": 996.51,
                  "T (degC)": -8.27,
                  "Tpot (K)": 265.15,
                  "Tdew (degC)": -9.04,
                  "rh (%)": 94.1,
                  "VPmax (mbar)": 3.27,
                  "VPact (mbar)": 3.08,
                  "VPdef (mbar)": 0.19,
                  "sh (g/kg)": 1.92,
                  "H2OC (mmol/mol)": 3.09,
                  "rho (g/m**3)": 1309,
                  "wv (m/s)": 0.32,
                  "max. wv (m/s)": 0.63,
                  "wd (deg)": 214.3,
                  "_deepnote_index_column": 4
                }
              ]
            },
            "text/plain": "             Date Time  p (mbar)  T (degC)  Tpot (K)  Tdew (degC)  rh (%)  \\\n0  01.01.2009 00:10:00    996.52     -8.02    265.40        -8.90    93.3   \n1  01.01.2009 00:20:00    996.57     -8.41    265.01        -9.28    93.4   \n2  01.01.2009 00:30:00    996.53     -8.51    264.91        -9.31    93.9   \n3  01.01.2009 00:40:00    996.51     -8.31    265.12        -9.07    94.2   \n4  01.01.2009 00:50:00    996.51     -8.27    265.15        -9.04    94.1   \n\n   VPmax (mbar)  VPact (mbar)  VPdef (mbar)  sh (g/kg)  H2OC (mmol/mol)  \\\n0          3.33          3.11          0.22       1.94             3.12   \n1          3.23          3.02          0.21       1.89             3.03   \n2          3.21          3.01          0.20       1.88             3.02   \n3          3.26          3.07          0.19       1.92             3.08   \n4          3.27          3.08          0.19       1.92             3.09   \n\n   rho (g/m**3)  wv (m/s)  max. wv (m/s)  wd (deg)  \n0       1307.75      1.03           1.75     152.3  \n1       1309.80      0.72           1.50     136.1  \n2       1310.24      0.19           0.63     171.6  \n3       1309.19      0.34           0.50     198.0  \n4       1309.00      0.32           0.63     214.3  ",
            "text/html": "<div>\n<style scoped>\n    .dataframe tbody tr th:only-of-type {\n        vertical-align: middle;\n    }\n\n    .dataframe tbody tr th {\n        vertical-align: top;\n    }\n\n    .dataframe thead th {\n        text-align: right;\n    }\n</style>\n<table border=\"1\" class=\"dataframe\">\n  <thead>\n    <tr style=\"text-align: right;\">\n      <th></th>\n      <th>Date Time</th>\n      <th>p (mbar)</th>\n      <th>T (degC)</th>\n      <th>Tpot (K)</th>\n      <th>Tdew (degC)</th>\n      <th>rh (%)</th>\n      <th>VPmax (mbar)</th>\n      <th>VPact (mbar)</th>\n      <th>VPdef (mbar)</th>\n      <th>sh (g/kg)</th>\n      <th>H2OC (mmol/mol)</th>\n      <th>rho (g/m**3)</th>\n      <th>wv (m/s)</th>\n      <th>max. wv (m/s)</th>\n      <th>wd (deg)</th>\n    </tr>\n  </thead>\n  <tbody>\n    <tr>\n      <th>0</th>\n      <td>01.01.2009 00:10:00</td>\n      <td>996.52</td>\n      <td>-8.02</td>\n      <td>265.40</td>\n      <td>-8.90</td>\n      <td>93.3</td>\n      <td>3.33</td>\n      <td>3.11</td>\n      <td>0.22</td>\n      <td>1.94</td>\n      <td>3.12</td>\n      <td>1307.75</td>\n      <td>1.03</td>\n      <td>1.75</td>\n      <td>152.3</td>\n    </tr>\n    <tr>\n      <th>1</th>\n      <td>01.01.2009 00:20:00</td>\n      <td>996.57</td>\n      <td>-8.41</td>\n      <td>265.01</td>\n      <td>-9.28</td>\n      <td>93.4</td>\n      <td>3.23</td>\n      <td>3.02</td>\n      <td>0.21</td>\n      <td>1.89</td>\n      <td>3.03</td>\n      <td>1309.80</td>\n      <td>0.72</td>\n      <td>1.50</td>\n      <td>136.1</td>\n    </tr>\n    <tr>\n      <th>2</th>\n      <td>01.01.2009 00:30:00</td>\n      <td>996.53</td>\n      <td>-8.51</td>\n      <td>264.91</td>\n      <td>-9.31</td>\n      <td>93.9</td>\n      <td>3.21</td>\n      <td>3.01</td>\n      <td>0.20</td>\n      <td>1.88</td>\n      <td>3.02</td>\n      <td>1310.24</td>\n      <td>0.19</td>\n      <td>0.63</td>\n      <td>171.6</td>\n    </tr>\n    <tr>\n      <th>3</th>\n      <td>01.01.2009 00:40:00</td>\n      <td>996.51</td>\n      <td>-8.31</td>\n      <td>265.12</td>\n      <td>-9.07</td>\n      <td>94.2</td>\n      <td>3.26</td>\n      <td>3.07</td>\n      <td>0.19</td>\n      <td>1.92</td>\n      <td>3.08</td>\n      <td>1309.19</td>\n      <td>0.34</td>\n      <td>0.50</td>\n      <td>198.0</td>\n    </tr>\n    <tr>\n      <th>4</th>\n      <td>01.01.2009 00:50:00</td>\n      <td>996.51</td>\n      <td>-8.27</td>\n      <td>265.15</td>\n      <td>-9.04</td>\n      <td>94.1</td>\n      <td>3.27</td>\n      <td>3.08</td>\n      <td>0.19</td>\n      <td>1.92</td>\n      <td>3.09</td>\n      <td>1309.00</td>\n      <td>0.32</td>\n      <td>0.63</td>\n      <td>214.3</td>\n    </tr>\n  </tbody>\n</table>\n</div>"
          },
          "metadata": {}
        }
      ],
      "execution_count": 3
    },
    {
      "cell_type": "markdown",
      "source": "La cantidad de info en muchísima, consideramos la data cada una hora. ",
      "metadata": {
        "formattedRanges": [],
        "cell_id": "6fdfaadd3e8c4616a6aba3a528cc32d5",
        "deepnote_cell_type": "text-cell-p"
      }
    },
    {
      "cell_type": "code",
      "source": "df = df[5::6] \ndf",
      "metadata": {
        "source_hash": "7f8d966",
        "execution_start": 1689619523069,
        "execution_millis": 726,
        "deepnote_to_be_reexecuted": false,
        "cell_id": "bdc75ce210a342639af36b9b823b7e58",
        "deepnote_cell_type": "code"
      },
      "outputs": [
        {
          "output_type": "execute_result",
          "execution_count": 4,
          "data": {
            "application/vnd.deepnote.dataframe.v3+json": {
              "column_count": 15,
              "row_count": 70091,
              "columns": [
                {
                  "name": "Date Time",
                  "dtype": "object",
                  "stats": {
                    "unique_count": 70067,
                    "nan_count": 0,
                    "categories": [
                      {
                        "name": "01.07.2010 00:20:00",
                        "count": 2
                      },
                      {
                        "name": "01.07.2010 01:20:00",
                        "count": 2
                      },
                      {
                        "name": "70065 others",
                        "count": 70087
                      }
                    ]
                  }
                },
                {
                  "name": "p (mbar)",
                  "dtype": "float64"
                },
                {
                  "name": "T (degC)",
                  "dtype": "float64"
                },
                {
                  "name": "Tpot (K)",
                  "dtype": "float64"
                },
                {
                  "name": "Tdew (degC)",
                  "dtype": "float64"
                },
                {
                  "name": "rh (%)",
                  "dtype": "float64"
                },
                {
                  "name": "VPmax (mbar)",
                  "dtype": "float64"
                },
                {
                  "name": "VPact (mbar)",
                  "dtype": "float64"
                },
                {
                  "name": "VPdef (mbar)",
                  "dtype": "float64"
                },
                {
                  "name": "sh (g/kg)",
                  "dtype": "float64"
                },
                {
                  "name": "H2OC (mmol/mol)",
                  "dtype": "float64"
                },
                {
                  "name": "rho (g/m**3)",
                  "dtype": "float64"
                },
                {
                  "name": "wv (m/s)",
                  "dtype": "float64"
                },
                {
                  "name": "max. wv (m/s)",
                  "dtype": "float64"
                },
                {
                  "name": "wd (deg)",
                  "dtype": "float64"
                },
                {
                  "name": "_deepnote_index_column",
                  "dtype": "int64"
                }
              ],
              "rows": [
                {
                  "Date Time": "01.01.2009 01:00:00",
                  "p (mbar)": 996.5,
                  "T (degC)": -8.05,
                  "Tpot (K)": 265.38,
                  "Tdew (degC)": -8.78,
                  "rh (%)": 94.4,
                  "VPmax (mbar)": 3.33,
                  "VPact (mbar)": 3.14,
                  "VPdef (mbar)": 0.19,
                  "sh (g/kg)": 1.96,
                  "H2OC (mmol/mol)": 3.15,
                  "rho (g/m**3)": 1307.86,
                  "wv (m/s)": 0.21,
                  "max. wv (m/s)": 0.63,
                  "wd (deg)": 192.7,
                  "_deepnote_index_column": 5
                },
                {
                  "Date Time": "01.01.2009 02:00:00",
                  "p (mbar)": 996.62,
                  "T (degC)": -8.88,
                  "Tpot (K)": 264.54,
                  "Tdew (degC)": -9.77,
                  "rh (%)": 93.2,
                  "VPmax (mbar)": 3.12,
                  "VPact (mbar)": 2.9,
                  "VPdef (mbar)": 0.21,
                  "sh (g/kg)": 1.81,
                  "H2OC (mmol/mol)": 2.91,
                  "rho (g/m**3)": 1312.25,
                  "wv (m/s)": 0.25,
                  "max. wv (m/s)": 0.63,
                  "wd (deg)": 190.3,
                  "_deepnote_index_column": 11
                },
                {
                  "Date Time": "01.01.2009 03:00:00",
                  "p (mbar)": 996.84,
                  "T (degC)": -8.81,
                  "Tpot (K)": 264.59,
                  "Tdew (degC)": -9.66,
                  "rh (%)": 93.5,
                  "VPmax (mbar)": 3.13,
                  "VPact (mbar)": 2.93,
                  "VPdef (mbar)": 0.2,
                  "sh (g/kg)": 1.83,
                  "H2OC (mmol/mol)": 2.94,
                  "rho (g/m**3)": 1312.18,
                  "wv (m/s)": 0.18,
                  "max. wv (m/s)": 0.63,
                  "wd (deg)": 167.2,
                  "_deepnote_index_column": 17
                },
                {
                  "Date Time": "01.01.2009 04:00:00",
                  "p (mbar)": 996.99,
                  "T (degC)": -9.05,
                  "Tpot (K)": 264.34,
                  "Tdew (degC)": -10.02,
                  "rh (%)": 92.6,
                  "VPmax (mbar)": 3.07,
                  "VPact (mbar)": 2.85,
                  "VPdef (mbar)": 0.23,
                  "sh (g/kg)": 1.78,
                  "H2OC (mmol/mol)": 2.85,
                  "rho (g/m**3)": 1313.61,
                  "wv (m/s)": 0.1,
                  "max. wv (m/s)": 0.38,
                  "wd (deg)": 240,
                  "_deepnote_index_column": 23
                },
                {
                  "Date Time": "01.01.2009 05:00:00",
                  "p (mbar)": 997.46,
                  "T (degC)": -9.63,
                  "Tpot (K)": 263.72,
                  "Tdew (degC)": -10.65,
                  "rh (%)": 92.2,
                  "VPmax (mbar)": 2.94,
                  "VPact (mbar)": 2.71,
                  "VPdef (mbar)": 0.23,
                  "sh (g/kg)": 1.69,
                  "H2OC (mmol/mol)": 2.71,
                  "rho (g/m**3)": 1317.19,
                  "wv (m/s)": 0.4,
                  "max. wv (m/s)": 0.88,
                  "wd (deg)": 157,
                  "_deepnote_index_column": 29
                },
                {
                  "Date Time": "01.01.2009 06:00:00",
                  "p (mbar)": 997.71,
                  "T (degC)": -9.67,
                  "Tpot (K)": 263.66,
                  "Tdew (degC)": -10.62,
                  "rh (%)": 92.7,
                  "VPmax (mbar)": 2.93,
                  "VPact (mbar)": 2.71,
                  "VPdef (mbar)": 0.21,
                  "sh (g/kg)": 1.69,
                  "H2OC (mmol/mol)": 2.72,
                  "rho (g/m**3)": 1317.71,
                  "wv (m/s)": 0.05,
                  "max. wv (m/s)": 0.5,
                  "wd (deg)": 146,
                  "_deepnote_index_column": 35
                },
                {
                  "Date Time": "01.01.2009 07:00:00",
                  "p (mbar)": 998.33,
                  "T (degC)": -9.17,
                  "Tpot (K)": 264.12,
                  "Tdew (degC)": -10.1,
                  "rh (%)": 92.9,
                  "VPmax (mbar)": 3.04,
                  "VPact (mbar)": 2.83,
                  "VPdef (mbar)": 0.22,
                  "sh (g/kg)": 1.76,
                  "H2OC (mmol/mol)": 2.83,
                  "rho (g/m**3)": 1315.98,
                  "wv (m/s)": 2.08,
                  "max. wv (m/s)": 2.88,
                  "wd (deg)": 348.8,
                  "_deepnote_index_column": 41
                },
                {
                  "Date Time": "01.01.2009 08:00:00",
                  "p (mbar)": 999.17,
                  "T (degC)": -8.1,
                  "Tpot (K)": 265.12,
                  "Tdew (degC)": -9.05,
                  "rh (%)": 92.8,
                  "VPmax (mbar)": 3.31,
                  "VPact (mbar)": 3.07,
                  "VPdef (mbar)": 0.24,
                  "sh (g/kg)": 1.92,
                  "H2OC (mmol/mol)": 3.08,
                  "rho (g/m**3)": 1311.65,
                  "wv (m/s)": 0.72,
                  "max. wv (m/s)": 1.25,
                  "wd (deg)": 213.9,
                  "_deepnote_index_column": 47
                },
                {
                  "Date Time": "01.01.2009 09:00:00",
                  "p (mbar)": 999.69,
                  "T (degC)": -7.66,
                  "Tpot (K)": 265.52,
                  "Tdew (degC)": -8.84,
                  "rh (%)": 91.2,
                  "VPmax (mbar)": 3.43,
                  "VPact (mbar)": 3.13,
                  "VPdef (mbar)": 0.3,
                  "sh (g/kg)": 1.95,
                  "H2OC (mmol/mol)": 3.13,
                  "rho (g/m**3)": 1310.14,
                  "wv (m/s)": 0.34,
                  "max. wv (m/s)": 0.63,
                  "wd (deg)": 202.2,
                  "_deepnote_index_column": 53
                },
                {
                  "Date Time": "01.01.2009 10:00:00",
                  "p (mbar)": 1000.27,
                  "T (degC)": -7.04,
                  "Tpot (K)": 266.1,
                  "Tdew (degC)": -8.17,
                  "rh (%)": 91.6,
                  "VPmax (mbar)": 3.6,
                  "VPact (mbar)": 3.3,
                  "VPdef (mbar)": 0.3,
                  "sh (g/kg)": 2.05,
                  "H2OC (mmol/mol)": 3.29,
                  "rho (g/m**3)": 1307.76,
                  "wv (m/s)": 1.45,
                  "max. wv (m/s)": 3,
                  "wd (deg)": 292.6,
                  "_deepnote_index_column": 59
                }
              ]
            },
            "text/plain": "                  Date Time  p (mbar)  T (degC)  Tpot (K)  Tdew (degC)  \\\n5       01.01.2009 01:00:00    996.50     -8.05    265.38        -8.78   \n11      01.01.2009 02:00:00    996.62     -8.88    264.54        -9.77   \n17      01.01.2009 03:00:00    996.84     -8.81    264.59        -9.66   \n23      01.01.2009 04:00:00    996.99     -9.05    264.34       -10.02   \n29      01.01.2009 05:00:00    997.46     -9.63    263.72       -10.65   \n...                     ...       ...       ...       ...          ...   \n420521  31.12.2016 19:10:00   1002.18     -0.98    272.01        -5.36   \n420527  31.12.2016 20:10:00   1001.40     -1.40    271.66        -6.84   \n420533  31.12.2016 21:10:00   1001.19     -2.75    270.32        -6.90   \n420539  31.12.2016 22:10:00   1000.65     -2.89    270.22        -7.15   \n420545  31.12.2016 23:10:00   1000.11     -3.93    269.23        -8.09   \n\n        rh (%)  VPmax (mbar)  VPact (mbar)  VPdef (mbar)  sh (g/kg)  \\\n5        94.40          3.33          3.14          0.19       1.96   \n11       93.20          3.12          2.90          0.21       1.81   \n17       93.50          3.13          2.93          0.20       1.83   \n23       92.60          3.07          2.85          0.23       1.78   \n29       92.20          2.94          2.71          0.23       1.69   \n...        ...           ...           ...           ...        ...   \n420521   72.00          5.69          4.09          1.59       2.54   \n420527   66.29          5.51          3.65          1.86       2.27   \n420533   72.90          4.99          3.64          1.35       2.26   \n420539   72.30          4.93          3.57          1.37       2.22   \n420545   72.60          4.56          3.31          1.25       2.06   \n\n        H2OC (mmol/mol)  rho (g/m**3)  wv (m/s)  max. wv (m/s)  wd (deg)  \n5                  3.15       1307.86      0.21           0.63     192.7  \n11                 2.91       1312.25      0.25           0.63     190.3  \n17                 2.94       1312.18      0.18           0.63     167.2  \n23                 2.85       1313.61      0.10           0.38     240.0  \n29                 2.71       1317.19      0.40           0.88     157.0  \n...                 ...           ...       ...            ...       ...  \n420521             4.08       1280.70      0.87           1.36     190.6  \n420527             3.65       1281.87      1.02           1.92     225.4  \n420533             3.63       1288.02      0.71           1.56     158.7  \n420539             3.57       1288.03      0.35           0.68     216.7  \n420545             3.31       1292.41      0.56           1.00     202.6  \n\n[70091 rows x 15 columns]",
            "text/html": "<div>\n<style scoped>\n    .dataframe tbody tr th:only-of-type {\n        vertical-align: middle;\n    }\n\n    .dataframe tbody tr th {\n        vertical-align: top;\n    }\n\n    .dataframe thead th {\n        text-align: right;\n    }\n</style>\n<table border=\"1\" class=\"dataframe\">\n  <thead>\n    <tr style=\"text-align: right;\">\n      <th></th>\n      <th>Date Time</th>\n      <th>p (mbar)</th>\n      <th>T (degC)</th>\n      <th>Tpot (K)</th>\n      <th>Tdew (degC)</th>\n      <th>rh (%)</th>\n      <th>VPmax (mbar)</th>\n      <th>VPact (mbar)</th>\n      <th>VPdef (mbar)</th>\n      <th>sh (g/kg)</th>\n      <th>H2OC (mmol/mol)</th>\n      <th>rho (g/m**3)</th>\n      <th>wv (m/s)</th>\n      <th>max. wv (m/s)</th>\n      <th>wd (deg)</th>\n    </tr>\n  </thead>\n  <tbody>\n    <tr>\n      <th>5</th>\n      <td>01.01.2009 01:00:00</td>\n      <td>996.50</td>\n      <td>-8.05</td>\n      <td>265.38</td>\n      <td>-8.78</td>\n      <td>94.40</td>\n      <td>3.33</td>\n      <td>3.14</td>\n      <td>0.19</td>\n      <td>1.96</td>\n      <td>3.15</td>\n      <td>1307.86</td>\n      <td>0.21</td>\n      <td>0.63</td>\n      <td>192.7</td>\n    </tr>\n    <tr>\n      <th>11</th>\n      <td>01.01.2009 02:00:00</td>\n      <td>996.62</td>\n      <td>-8.88</td>\n      <td>264.54</td>\n      <td>-9.77</td>\n      <td>93.20</td>\n      <td>3.12</td>\n      <td>2.90</td>\n      <td>0.21</td>\n      <td>1.81</td>\n      <td>2.91</td>\n      <td>1312.25</td>\n      <td>0.25</td>\n      <td>0.63</td>\n      <td>190.3</td>\n    </tr>\n    <tr>\n      <th>17</th>\n      <td>01.01.2009 03:00:00</td>\n      <td>996.84</td>\n      <td>-8.81</td>\n      <td>264.59</td>\n      <td>-9.66</td>\n      <td>93.50</td>\n      <td>3.13</td>\n      <td>2.93</td>\n      <td>0.20</td>\n      <td>1.83</td>\n      <td>2.94</td>\n      <td>1312.18</td>\n      <td>0.18</td>\n      <td>0.63</td>\n      <td>167.2</td>\n    </tr>\n    <tr>\n      <th>23</th>\n      <td>01.01.2009 04:00:00</td>\n      <td>996.99</td>\n      <td>-9.05</td>\n      <td>264.34</td>\n      <td>-10.02</td>\n      <td>92.60</td>\n      <td>3.07</td>\n      <td>2.85</td>\n      <td>0.23</td>\n      <td>1.78</td>\n      <td>2.85</td>\n      <td>1313.61</td>\n      <td>0.10</td>\n      <td>0.38</td>\n      <td>240.0</td>\n    </tr>\n    <tr>\n      <th>29</th>\n      <td>01.01.2009 05:00:00</td>\n      <td>997.46</td>\n      <td>-9.63</td>\n      <td>263.72</td>\n      <td>-10.65</td>\n      <td>92.20</td>\n      <td>2.94</td>\n      <td>2.71</td>\n      <td>0.23</td>\n      <td>1.69</td>\n      <td>2.71</td>\n      <td>1317.19</td>\n      <td>0.40</td>\n      <td>0.88</td>\n      <td>157.0</td>\n    </tr>\n    <tr>\n      <th>...</th>\n      <td>...</td>\n      <td>...</td>\n      <td>...</td>\n      <td>...</td>\n      <td>...</td>\n      <td>...</td>\n      <td>...</td>\n      <td>...</td>\n      <td>...</td>\n      <td>...</td>\n      <td>...</td>\n      <td>...</td>\n      <td>...</td>\n      <td>...</td>\n      <td>...</td>\n    </tr>\n    <tr>\n      <th>420521</th>\n      <td>31.12.2016 19:10:00</td>\n      <td>1002.18</td>\n      <td>-0.98</td>\n      <td>272.01</td>\n      <td>-5.36</td>\n      <td>72.00</td>\n      <td>5.69</td>\n      <td>4.09</td>\n      <td>1.59</td>\n      <td>2.54</td>\n      <td>4.08</td>\n      <td>1280.70</td>\n      <td>0.87</td>\n      <td>1.36</td>\n      <td>190.6</td>\n    </tr>\n    <tr>\n      <th>420527</th>\n      <td>31.12.2016 20:10:00</td>\n      <td>1001.40</td>\n      <td>-1.40</td>\n      <td>271.66</td>\n      <td>-6.84</td>\n      <td>66.29</td>\n      <td>5.51</td>\n      <td>3.65</td>\n      <td>1.86</td>\n      <td>2.27</td>\n      <td>3.65</td>\n      <td>1281.87</td>\n      <td>1.02</td>\n      <td>1.92</td>\n      <td>225.4</td>\n    </tr>\n    <tr>\n      <th>420533</th>\n      <td>31.12.2016 21:10:00</td>\n      <td>1001.19</td>\n      <td>-2.75</td>\n      <td>270.32</td>\n      <td>-6.90</td>\n      <td>72.90</td>\n      <td>4.99</td>\n      <td>3.64</td>\n      <td>1.35</td>\n      <td>2.26</td>\n      <td>3.63</td>\n      <td>1288.02</td>\n      <td>0.71</td>\n      <td>1.56</td>\n      <td>158.7</td>\n    </tr>\n    <tr>\n      <th>420539</th>\n      <td>31.12.2016 22:10:00</td>\n      <td>1000.65</td>\n      <td>-2.89</td>\n      <td>270.22</td>\n      <td>-7.15</td>\n      <td>72.30</td>\n      <td>4.93</td>\n      <td>3.57</td>\n      <td>1.37</td>\n      <td>2.22</td>\n      <td>3.57</td>\n      <td>1288.03</td>\n      <td>0.35</td>\n      <td>0.68</td>\n      <td>216.7</td>\n    </tr>\n    <tr>\n      <th>420545</th>\n      <td>31.12.2016 23:10:00</td>\n      <td>1000.11</td>\n      <td>-3.93</td>\n      <td>269.23</td>\n      <td>-8.09</td>\n      <td>72.60</td>\n      <td>4.56</td>\n      <td>3.31</td>\n      <td>1.25</td>\n      <td>2.06</td>\n      <td>3.31</td>\n      <td>1292.41</td>\n      <td>0.56</td>\n      <td>1.00</td>\n      <td>202.6</td>\n    </tr>\n  </tbody>\n</table>\n<p>70091 rows × 15 columns</p>\n</div>"
          },
          "metadata": {}
        }
      ],
      "execution_count": 4
    },
    {
      "cell_type": "markdown",
      "source": "Nos concentramos en la temperatura, creamos un nuevo dataframe llamado temp. ",
      "metadata": {
        "formattedRanges": [],
        "cell_id": "7174e034439e49d4b6982137d349beeb",
        "deepnote_cell_type": "text-cell-p"
      }
    },
    {
      "cell_type": "code",
      "source": "df.index = pd.to_datetime(df['Date Time'], format='%d.%m.%Y %H:%M:%S')\ntemp = df['T (degC)']\nsns.scatterplot(data=temp)",
      "metadata": {
        "source_hash": "ae0f4f05",
        "execution_start": 1689619523537,
        "execution_millis": 207,
        "deepnote_to_be_reexecuted": false,
        "cell_id": "9191de8c93654c39bd17236e46c891ba",
        "deepnote_cell_type": "code"
      },
      "outputs": [
        {
          "output_type": "execute_result",
          "execution_count": 5,
          "data": {
            "text/plain": "<AxesSubplot: xlabel='Date Time', ylabel='T (degC)'>"
          },
          "metadata": {}
        },
        {
          "data": {
            "text/plain": "<Figure size 640x480 with 1 Axes>",
            "image/png": "[encoded data removed]"
          },
          "metadata": {
            "image/png": {
              "width": 574,
              "height": 436
            }
          },
          "output_type": "display_data"
        }
      ],
      "execution_count": 5
    },
    {
      "cell_type": "markdown",
      "source": "Vemos que los datos tienen cierta regularidad. Debería ser posible hacer una predicción. Preparando la data para el forecast, tenemos que lograr esto en nuestra serie de tiempo: ",
      "metadata": {
        "formattedRanges": [],
        "cell_id": "713e773c524a465a8b98f6ae7db6b896",
        "deepnote_cell_type": "text-cell-p"
      }
    },
    {
      "cell_type": "code",
      "source": "# [[[1],[2],[3],[4],[5]]]   [6] \n# [[[2],[3],[4],[5],[6]]]   [7]\n# [[[3],[4],[5],[6],[7]]]   [8]\n#         X                  y",
      "metadata": {
        "source_hash": "1a1d8f77",
        "execution_start": 1689619524374,
        "execution_millis": 223,
        "deepnote_to_be_reexecuted": false,
        "cell_id": "0bd678d0694f4434b204b38cfb9b84e1",
        "deepnote_cell_type": "code"
      },
      "outputs": [],
      "execution_count": 6
    },
    {
      "cell_type": "markdown",
      "source": "\"X\" tiene la forma de 'lista de listas', donde para cada línea, la serie de tiempo aumenta en una unidad. Lo mismo ocurre para la columna \"y\". Creamos una función que transforma el dataframe de temp en \"X\" e \"y\".   ",
      "metadata": {
        "formattedRanges": [],
        "cell_id": "f7e918f1edc244f7a8334df2d19fa871",
        "deepnote_cell_type": "text-cell-p"
      }
    },
    {
      "cell_type": "code",
      "source": "def df_to_X_y(df, window_size=5): #El ws corresponde a el largo del row, podría no ser siempre igual. \n    df_as_np = df.to_numpy()\n    X = []\n    y = []\n    for i in range(len(df_as_np)-window_size):\n        row = [[a] for a in df_as_np[i:i+5]]\n        X.append(row) # Agregamos la lista en X\n        label = df_as_np[i+5]\n        y.append(label) # Agregamos el elemento que corresponde en y\n    return np.array(X), np.array(y)",
      "metadata": {
        "source_hash": "2856ebce",
        "execution_start": 1689619524379,
        "execution_millis": 36,
        "deepnote_to_be_reexecuted": false,
        "cell_id": "2711707bda9a4cee8ce58cf36870e983",
        "deepnote_cell_type": "code"
      },
      "outputs": [],
      "execution_count": 7
    },
    {
      "cell_type": "code",
      "source": "WINDOW_SIZE = 5\nX, y = df_to_X_y(temp, WINDOW_SIZE)\nX.shape, y.shape",
      "metadata": {
        "source_hash": "7378abfc",
        "execution_start": 1689619524389,
        "execution_millis": 995,
        "deepnote_to_be_reexecuted": false,
        "cell_id": "fb4984c558514c769610320736fae011",
        "deepnote_cell_type": "code"
      },
      "outputs": [
        {
          "output_type": "execute_result",
          "execution_count": 8,
          "data": {
            "text/plain": "((70086, 5, 1), (70086,))"
          },
          "metadata": {}
        }
      ],
      "execution_count": 8
    },
    {
      "cell_type": "markdown",
      "source": "El shape de X es (N° de filas, N° de col, elementos). Si vemos el dataframe temp, no concuerda la cantidad de datos (70091) con el shape de X (70086). Esto es, porque los últimos 5 terminos de temp no alcanzan a 'iterar' en la función. Ahora definimos los valores de entrenamiento:      ",
      "metadata": {
        "formattedRanges": [],
        "cell_id": "d204739e52d74deeaaeba125df9fbb31",
        "deepnote_cell_type": "text-cell-p"
      }
    },
    {
      "cell_type": "code",
      "source": "X_train, y_train = X[:60000], y[:60000] \nX_val, y_val = X[60000:65000], y[60000:65000]\nX_test, y_test = X[65000:], y[65000:]\nX_train.shape, y_train.shape, X_val.shape, y_val.shape, X_test.shape, y_test.shape  ",
      "metadata": {
        "source_hash": "dc13c223",
        "execution_start": 1689619525402,
        "execution_millis": 12,
        "deepnote_to_be_reexecuted": false,
        "cell_id": "c74cfa9c03a042f8b22715a2fa189025",
        "deepnote_cell_type": "code"
      },
      "outputs": [
        {
          "output_type": "execute_result",
          "execution_count": 9,
          "data": {
            "text/plain": "((60000, 5, 1), (60000,), (5000, 5, 1), (5000,), (5086, 5, 1), (5086,))"
          },
          "metadata": {}
        }
      ],
      "execution_count": 9
    },
    {
      "cell_type": "markdown",
      "source": "Acá, entrenaremos con los primeros 60000 términos. La segunda línea es de validación 60000-65000, estos datos son ocupados por el algoritmo para ajustar sus propios parámetros en cada 'epoch' y dismimuir el error. La tercera línea es de testeo, la usaremos para ver como predice nuestro forecast respecto a datos reales. Importamos los paquetes necesarios, llamamos a nuestro modelo 'model1' y tendrá los parámetros para realizar el forecast.              ",
      "metadata": {
        "formattedRanges": [],
        "cell_id": "fe420282ca6846f28cb91ae6e970beb5",
        "deepnote_cell_type": "text-cell-p"
      }
    },
    {
      "cell_type": "code",
      "source": "from tensorflow.keras.models import Sequential\nfrom tensorflow.keras.layers import *\nfrom tensorflow.keras.callbacks import ModelCheckpoint\nfrom tensorflow.keras.losses import MeanSquaredError\nfrom tensorflow.keras.metrics import RootMeanSquaredError\nfrom tensorflow.keras.optimizers import Adam\n\nmodel1= Sequential() #Keras es una API secuencial \nmodel1.add(InputLayer((5, 1))) #Especificamos el 'shape' de X\nmodel1.add(LSTM(64)) # Especificamos la dimensionalidad del espacio de salida\nmodel1.add(Dense(8, 'relu'))     \nmodel1.add(Dense(1, 'linear'))\n\nmodel1.summary()",
      "metadata": {
        "source_hash": "46cbf13a",
        "execution_start": 1689619525412,
        "execution_millis": 458,
        "deepnote_to_be_reexecuted": false,
        "cell_id": "74004d3265d74926976e30b9587ea17d",
        "deepnote_cell_type": "code"
      },
      "outputs": [
        {
          "name": "stderr",
          "text": "2023-07-17 18:45:25.414598: W tensorflow/stream_executor/platform/default/dso_loader.cc:64] Could not load dynamic library 'libcuda.so.1'; dlerror: libcuda.so.1: cannot open shared object file: No such file or directory\n2023-07-17 18:45:25.414633: W tensorflow/stream_executor/cuda/cuda_driver.cc:263] failed call to cuInit: UNKNOWN ERROR (303)\n2023-07-17 18:45:25.414652: I tensorflow/stream_executor/cuda/cuda_diagnostics.cc:156] kernel driver does not appear to be running on this host (p-2bea62e9-8d22-46a6-9eb4-51194a5da2d7): /proc/driver/nvidia/version does not exist\n2023-07-17 18:45:25.414888: I tensorflow/core/platform/cpu_feature_guard.cc:193] This TensorFlow binary is optimized with oneAPI Deep Neural Network Library (oneDNN) to use the following CPU instructions in performance-critical operations:  AVX2 AVX512F FMA\nTo enable them in other operations, rebuild TensorFlow with the appropriate compiler flags.\nModel: \"sequential\"\n_________________________________________________________________\n Layer (type)                Output Shape              Param #   \n=================================================================\n lstm (LSTM)                 (None, 64)                16896     \n                                                                 \n dense (Dense)               (None, 8)                 520       \n                                                                 \n dense_1 (Dense)             (None, 1)                 9         \n                                                                 \n=================================================================\nTotal params: 17,425\nTrainable params: 17,425\nNon-trainable params: 0\n_________________________________________________________________\n",
          "output_type": "stream"
        }
      ],
      "execution_count": 10
    },
    {
      "cell_type": "markdown",
      "source": "Acá las instrucciones Dense(UNITS,ACTIVATION) (fully-connected layer) indica que las neuronas de la iteración x están conectadas con todas las neuronas de la iteración x+1. UNITS:It is the most primitive of all the parameters. It accepts only a positive integer and defines the size of the output vector from the dense layer,i.e., determines the size of the weight matrix along with the bias vector. ACTIVATION: It helps define the activation function that can be applied per element of a dense layer. There are various types of activation functions provided by Keras, such as relu, sigmoid, softmax, Selu, Elu, Tanh, and many more. If not specified, it uses a linear activation function. Finalmente lo importante es que comenzamos con una red neuronal de muchos parámetros, la función Dense (8) y Dense (1) solo nos entrega uno, como resultado de la predicción.   Ahora creamos un CheckPoint y generamos el compilador,  ",
      "metadata": {
        "formattedRanges": [
          {
            "type": "marks",
            "marks": {
              "underline": true
            },
            "toCodePoint": 178,
            "fromCodePoint": 173
          },
          {
            "type": "marks",
            "marks": {
              "underline": true
            },
            "toCodePoint": 410,
            "fromCodePoint": 400
          }
        ],
        "cell_id": "c44fda40233b4da7a2a8aa6c09a4492d",
        "deepnote_cell_type": "text-cell-p"
      }
    },
    {
      "cell_type": "code",
      "source": "cp = ModelCheckpoint('model1/', save_best_only=True) #Solo guarda la iteración que tenga el menor 'validation loss' \nmodel1.compile(loss=MeanSquaredError(), optimizer=Adam(learning_rate=0.0001), metrics=[RootMeanSquaredError()])",
      "metadata": {
        "source_hash": "2f1c867b",
        "execution_start": 1689619525746,
        "execution_millis": 17,
        "deepnote_to_be_reexecuted": false,
        "cell_id": "8e767912583443ceaf3d153414bd69a9",
        "deepnote_cell_type": "code"
      },
      "outputs": [],
      "execution_count": 11
    },
    {
      "cell_type": "markdown",
      "source": "El optimizer es crucial para determinar la precisión de la predicción, acá dejo una descripción de cada posibilidad: https://deepdatascience.wordpress.com/2016/11/18/which-lstm-optimizer-to-use/ , el learning_rate es un valor que si lo aumentamos, el modelo logrará reducir más rapidamente el 'validation loss', pero no siempre un valor alto es más óptimo, depende del dataset. Ahora entrenamos el modelo y generamos la predicción. La predicción quedará guardada en la carpeta 'model1'.  ",
      "metadata": {
        "formattedRanges": [
          {
            "url": "https://deepdatascience.wordpress.com/2016/11/18/which-lstm-optimizer-to-use/",
            "type": "link",
            "ranges": [],
            "toCodePoint": 194,
            "fromCodePoint": 117
          }
        ],
        "cell_id": "42ac5e7f8afe4dcd89535fab0313e3c6",
        "deepnote_cell_type": "text-cell-p"
      }
    },
    {
      "cell_type": "code",
      "source": "model1.fit(X_train, y_train, validation_data=(X_val, y_val),epochs=10, callbacks=[cp])",
      "metadata": {
        "source_hash": "f4ecd994",
        "execution_start": 1689619525757,
        "execution_millis": 203846,
        "deepnote_to_be_reexecuted": false,
        "cell_id": "644a972391d6499caf8adcef568bfe60",
        "deepnote_cell_type": "code"
      },
      "outputs": [
        {
          "name": "stdout",
          "text": "Epoch 1/10\n1865/1875 [============================>.] - ETA: 0s - loss: 33.8538 - root_mean_squared_error: 5.8184WARNING:absl:Found untraced functions such as lstm_cell_layer_call_fn, lstm_cell_layer_call_and_return_conditional_losses while saving (showing 2 of 2). These functions will not be directly callable after loading.\nINFO:tensorflow:Assets written to: model1/assets\nINFO:tensorflow:Assets written to: model1/assets\n1875/1875 [==============================] - 20s 10ms/step - loss: 33.7031 - root_mean_squared_error: 5.8054 - val_loss: 1.2735 - val_root_mean_squared_error: 1.1285\nEpoch 2/10\n1871/1875 [============================>.] - ETA: 0s - loss: 2.3237 - root_mean_squared_error: 1.5244WARNING:absl:Found untraced functions such as lstm_cell_layer_call_fn, lstm_cell_layer_call_and_return_conditional_losses while saving (showing 2 of 2). These functions will not be directly callable after loading.\nINFO:tensorflow:Assets written to: model1/assets\nINFO:tensorflow:Assets written to: model1/assets\n1875/1875 [==============================] - 18s 10ms/step - loss: 2.3222 - root_mean_squared_error: 1.5239 - val_loss: 0.6335 - val_root_mean_squared_error: 0.7959\nEpoch 3/10\n1866/1875 [============================>.] - ETA: 0s - loss: 1.0012 - root_mean_squared_error: 1.0006WARNING:absl:Found untraced functions such as lstm_cell_layer_call_fn, lstm_cell_layer_call_and_return_conditional_losses while saving (showing 2 of 2). These functions will not be directly callable after loading.\nINFO:tensorflow:Assets written to: model1/assets\nINFO:tensorflow:Assets written to: model1/assets\n1875/1875 [==============================] - 18s 9ms/step - loss: 1.0009 - root_mean_squared_error: 1.0005 - val_loss: 0.5383 - val_root_mean_squared_error: 0.7337\nEpoch 4/10\n1875/1875 [==============================] - ETA: 0s - loss: 0.7516 - root_mean_squared_error: 0.8670WARNING:absl:Found untraced functions such as lstm_cell_layer_call_fn, lstm_cell_layer_call_and_return_conditional_losses while saving (showing 2 of 2). These functions will not be directly callable after loading.\nINFO:tensorflow:Assets written to: model1/assets\nINFO:tensorflow:Assets written to: model1/assets\n1875/1875 [==============================] - 18s 10ms/step - loss: 0.7516 - root_mean_squared_error: 0.8670 - val_loss: 0.5172 - val_root_mean_squared_error: 0.7191\nEpoch 5/10\n1868/1875 [============================>.] - ETA: 0s - loss: 0.6912 - root_mean_squared_error: 0.8314WARNING:absl:Found untraced functions such as lstm_cell_layer_call_fn, lstm_cell_layer_call_and_return_conditional_losses while saving (showing 2 of 2). These functions will not be directly callable after loading.\nINFO:tensorflow:Assets written to: model1/assets\nINFO:tensorflow:Assets written to: model1/assets\n1875/1875 [==============================] - 18s 10ms/step - loss: 0.6919 - root_mean_squared_error: 0.8318 - val_loss: 0.5058 - val_root_mean_squared_error: 0.7112\nEpoch 6/10\n1875/1875 [==============================] - 14s 7ms/step - loss: 0.6702 - root_mean_squared_error: 0.8187 - val_loss: 0.5079 - val_root_mean_squared_error: 0.7127\nEpoch 7/10\n1865/1875 [============================>.] - ETA: 0s - loss: 0.6627 - root_mean_squared_error: 0.8141WARNING:absl:Found untraced functions such as lstm_cell_layer_call_fn, lstm_cell_layer_call_and_return_conditional_losses while saving (showing 2 of 2). These functions will not be directly callable after loading.\nINFO:tensorflow:Assets written to: model1/assets\nINFO:tensorflow:Assets written to: model1/assets\n1875/1875 [==============================] - 18s 10ms/step - loss: 0.6617 - root_mean_squared_error: 0.8134 - val_loss: 0.5053 - val_root_mean_squared_error: 0.7108\nEpoch 8/10\n1875/1875 [==============================] - ETA: 0s - loss: 0.6546 - root_mean_squared_error: 0.8091WARNING:absl:Found untraced functions such as lstm_cell_layer_call_fn, lstm_cell_layer_call_and_return_conditional_losses while saving (showing 2 of 2). These functions will not be directly callable after loading.\nINFO:tensorflow:Assets written to: model1/assets\nINFO:tensorflow:Assets written to: model1/assets\n1875/1875 [==============================] - 18s 10ms/step - loss: 0.6546 - root_mean_squared_error: 0.8091 - val_loss: 0.5026 - val_root_mean_squared_error: 0.7089\nEpoch 9/10\n1868/1875 [============================>.] - ETA: 0s - loss: 0.6493 - root_mean_squared_error: 0.8058WARNING:absl:Found untraced functions such as lstm_cell_layer_call_fn, lstm_cell_layer_call_and_return_conditional_losses while saving (showing 2 of 2). These functions will not be directly callable after loading.\nINFO:tensorflow:Assets written to: model1/assets\nINFO:tensorflow:Assets written to: model1/assets\n1875/1875 [==============================] - 18s 9ms/step - loss: 0.6499 - root_mean_squared_error: 0.8062 - val_loss: 0.4912 - val_root_mean_squared_error: 0.7008\nEpoch 10/10\n1875/1875 [==============================] - 14s 8ms/step - loss: 0.6476 - root_mean_squared_error: 0.8047 - val_loss: 0.4940 - val_root_mean_squared_error: 0.7029\n",
          "output_type": "stream"
        },
        {
          "output_type": "execute_result",
          "execution_count": 12,
          "data": {
            "text/plain": "<keras.callbacks.History at 0x7fc7bbb7a3a0>"
          },
          "metadata": {}
        }
      ],
      "execution_count": 12
    },
    {
      "cell_type": "markdown",
      "source": "Importamos la data guardada. ",
      "metadata": {
        "formattedRanges": [],
        "cell_id": "c7cff046ffff4584b8b322b430808797",
        "deepnote_cell_type": "text-cell-p"
      }
    },
    {
      "cell_type": "code",
      "source": "from tensorflow.keras.models import load_model\nmodel1 = load_model('model1/') ",
      "metadata": {
        "source_hash": "b189ce9d",
        "execution_start": 1689619729264,
        "execution_millis": 2177,
        "deepnote_to_be_reexecuted": false,
        "cell_id": "73a88581051b4bb880f600e895a6cdf7",
        "deepnote_cell_type": "code"
      },
      "outputs": [],
      "execution_count": 13
    },
    {
      "cell_type": "markdown",
      "source": "Creamos un dataset con una columna de predicción y otra columna con los datos reales.",
      "metadata": {
        "formattedRanges": [],
        "cell_id": "b5892f196f0b4554bf3563ad86246b1d",
        "deepnote_cell_type": "text-cell-p"
      }
    },
    {
      "cell_type": "code",
      "source": "train_predictions = model1.predict(X_train).flatten() #EL shape del X_train es array[[],[]...] por eso aplicamos flatten  \ntrain_results = pd.DataFrame(data={'Train Predictions':train_predictions, 'Actuals':y_train})\ntrain_results ",
      "metadata": {
        "source_hash": "748bb9ae",
        "execution_start": 1689619738973,
        "execution_millis": 7409,
        "deepnote_to_be_reexecuted": false,
        "cell_id": "6f758a93c9d945c58a623b32c6e0405f",
        "deepnote_cell_type": "code"
      },
      "outputs": [
        {
          "name": "stdout",
          "text": "1875/1875 [==============================] - 6s 3ms/step\n",
          "output_type": "stream"
        },
        {
          "output_type": "execute_result",
          "execution_count": 15,
          "data": {
            "application/vnd.deepnote.dataframe.v3+json": {
              "column_count": 2,
              "row_count": 60000,
              "columns": [
                {
                  "name": "Train Predictions",
                  "dtype": "float32",
                  "stats": {
                    "unique_count": 59932,
                    "nan_count": 0,
                    "min": "-20.085926055908203",
                    "max": "34.909034729003906",
                    "histogram": [
                      {
                        "bin_start": -20.085926055908203,
                        "bin_end": -14.586429595947266,
                        "count": 191
                      },
                      {
                        "bin_start": -14.586429595947266,
                        "bin_end": -9.086934089660645,
                        "count": 638
                      },
                      {
                        "bin_start": -9.086934089660645,
                        "bin_end": -3.587437868118286,
                        "count": 2621
                      },
                      {
                        "bin_start": -3.587437868118286,
                        "bin_end": 1.9120582342147827,
                        "count": 8310
                      },
                      {
                        "bin_start": 1.9120582342147827,
                        "bin_end": 7.411554336547852,
                        "count": 12903
                      },
                      {
                        "bin_start": 7.411554336547852,
                        "bin_end": 12.911050796508789,
                        "count": 13988
                      },
                      {
                        "bin_start": 12.911050796508789,
                        "bin_end": 18.410547256469727,
                        "count": 12762
                      },
                      {
                        "bin_start": 18.410547256469727,
                        "bin_end": 23.91004180908203,
                        "count": 6174
                      },
                      {
                        "bin_start": 23.91004180908203,
                        "bin_end": 29.40953826904297,
                        "count": 1992
                      },
                      {
                        "bin_start": 29.40953826904297,
                        "bin_end": 34.909034729003906,
                        "count": 421
                      }
                    ]
                  }
                },
                {
                  "name": "Actuals",
                  "dtype": "float64"
                },
                {
                  "name": "_deepnote_index_column",
                  "dtype": "int64"
                }
              ],
              "rows": [
                {
                  "Train Predictions": -9.759679794311523,
                  "Actuals": -9.67,
                  "_deepnote_index_column": 0
                },
                {
                  "Train Predictions": -9.597443580627441,
                  "Actuals": -9.17,
                  "_deepnote_index_column": 1
                },
                {
                  "Train Predictions": -8.79233169555664,
                  "Actuals": -8.1,
                  "_deepnote_index_column": 2
                },
                {
                  "Train Predictions": -7.452444553375244,
                  "Actuals": -7.66,
                  "_deepnote_index_column": 3
                },
                {
                  "Train Predictions": -7.290732383728027,
                  "Actuals": -7.04,
                  "_deepnote_index_column": 4
                },
                {
                  "Train Predictions": -6.7020978927612305,
                  "Actuals": -7.41,
                  "_deepnote_index_column": 5
                },
                {
                  "Train Predictions": -7.443429470062256,
                  "Actuals": -6.87,
                  "_deepnote_index_column": 6
                },
                {
                  "Train Predictions": -6.62523889541626,
                  "Actuals": -5.89,
                  "_deepnote_index_column": 7
                },
                {
                  "Train Predictions": -5.2650861740112305,
                  "Actuals": -5.94,
                  "_deepnote_index_column": 8
                },
                {
                  "Train Predictions": -5.812248229980469,
                  "Actuals": -5.69,
                  "_deepnote_index_column": 9
                }
              ]
            },
            "text/plain": "       Train Predictions  Actuals\n0              -9.759680    -9.67\n1              -9.597444    -9.17\n2              -8.792332    -8.10\n3              -7.452445    -7.66\n4              -7.290732    -7.04\n...                  ...      ...\n59995           6.034591     6.07\n59996           7.268508     9.88\n59997          12.343010    13.53\n59998          16.103727    15.43\n59999          16.476891    15.54\n\n[60000 rows x 2 columns]",
            "text/html": "<div>\n<style scoped>\n    .dataframe tbody tr th:only-of-type {\n        vertical-align: middle;\n    }\n\n    .dataframe tbody tr th {\n        vertical-align: top;\n    }\n\n    .dataframe thead th {\n        text-align: right;\n    }\n</style>\n<table border=\"1\" class=\"dataframe\">\n  <thead>\n    <tr style=\"text-align: right;\">\n      <th></th>\n      <th>Train Predictions</th>\n      <th>Actuals</th>\n    </tr>\n  </thead>\n  <tbody>\n    <tr>\n      <th>0</th>\n      <td>-9.759680</td>\n      <td>-9.67</td>\n    </tr>\n    <tr>\n      <th>1</th>\n      <td>-9.597444</td>\n      <td>-9.17</td>\n    </tr>\n    <tr>\n      <th>2</th>\n      <td>-8.792332</td>\n      <td>-8.10</td>\n    </tr>\n    <tr>\n      <th>3</th>\n      <td>-7.452445</td>\n      <td>-7.66</td>\n    </tr>\n    <tr>\n      <th>4</th>\n      <td>-7.290732</td>\n      <td>-7.04</td>\n    </tr>\n    <tr>\n      <th>...</th>\n      <td>...</td>\n      <td>...</td>\n    </tr>\n    <tr>\n      <th>59995</th>\n      <td>6.034591</td>\n      <td>6.07</td>\n    </tr>\n    <tr>\n      <th>59996</th>\n      <td>7.268508</td>\n      <td>9.88</td>\n    </tr>\n    <tr>\n      <th>59997</th>\n      <td>12.343010</td>\n      <td>13.53</td>\n    </tr>\n    <tr>\n      <th>59998</th>\n      <td>16.103727</td>\n      <td>15.43</td>\n    </tr>\n    <tr>\n      <th>59999</th>\n      <td>16.476891</td>\n      <td>15.54</td>\n    </tr>\n  </tbody>\n</table>\n<p>60000 rows × 2 columns</p>\n</div>"
          },
          "metadata": {}
        }
      ],
      "execution_count": 15
    },
    {
      "cell_type": "markdown",
      "source": "Graficamos juntos, los 500 primeros datos reales y datos predichos.  ",
      "metadata": {
        "formattedRanges": [],
        "cell_id": "67bce04ec5f64aaea74c6b6392cf3148",
        "deepnote_cell_type": "text-cell-p"
      }
    },
    {
      "cell_type": "code",
      "source": "import matplotlib.pyplot as plt\nplt.plot(train_results['Train Predictions'][:500])\nplt.plot(train_results['Actuals'][:500])",
      "metadata": {
        "source_hash": "27a73191",
        "execution_start": 1689619745841,
        "execution_millis": 98,
        "deepnote_to_be_reexecuted": false,
        "cell_id": "c73f5326f1d34bc2b14134bd0d37f693",
        "deepnote_cell_type": "code"
      },
      "outputs": [
        {
          "output_type": "execute_result",
          "execution_count": 16,
          "data": {
            "text/plain": "[<matplotlib.lines.Line2D at 0x7fc7b2f50e50>]"
          },
          "metadata": {}
        },
        {
          "data": {
            "text/plain": "<Figure size 640x480 with 1 Axes>",
            "image/png": "[encoded data removed]"
          },
          "metadata": {
            "image/png": {
              "width": 554,
              "height": 413
            }
          },
          "output_type": "display_data"
        }
      ],
      "execution_count": 16
    },
    {
      "cell_type": "markdown",
      "source": "Vemos como están los datos de validación que utilizó la red neuronal para disminuir el 'validation loss'.  ",
      "metadata": {
        "formattedRanges": [],
        "cell_id": "b6decfffe8d048e4989aa0279f89a28c",
        "deepnote_cell_type": "text-cell-p"
      }
    },
    {
      "cell_type": "code",
      "source": "val_predictions = model1.predict(X_val).flatten()\nval_results = pd.DataFrame(data={'Val Predictions':val_predictions, 'Actuals':y_val})\nval_results ",
      "metadata": {
        "source_hash": "5bfea06f",
        "execution_start": 1689619746119,
        "execution_millis": 1447,
        "deepnote_to_be_reexecuted": false,
        "cell_id": "f5e2de576f324c57a36d00fdaee0675b",
        "deepnote_cell_type": "code"
      },
      "outputs": [
        {
          "name": "stdout",
          "text": "157/157 [==============================] - 1s 4ms/step\n",
          "output_type": "stream"
        },
        {
          "output_type": "execute_result",
          "execution_count": 17,
          "data": {
            "application/vnd.deepnote.dataframe.v3+json": {
              "column_count": 2,
              "row_count": 5000,
              "columns": [
                {
                  "name": "Val Predictions",
                  "dtype": "float32",
                  "stats": {
                    "unique_count": 4999,
                    "nan_count": 0,
                    "min": "-13.460253715515137",
                    "max": "29.656131744384766",
                    "histogram": [
                      {
                        "bin_start": -13.460253715515137,
                        "bin_end": -9.148614883422852,
                        "count": 23
                      },
                      {
                        "bin_start": -9.148614883422852,
                        "bin_end": -4.836976528167725,
                        "count": 33
                      },
                      {
                        "bin_start": -4.836976528167725,
                        "bin_end": -0.5253380537033081,
                        "count": 498
                      },
                      {
                        "bin_start": -0.5253380537033081,
                        "bin_end": 3.7863004207611084,
                        "count": 1209
                      },
                      {
                        "bin_start": 3.7863004207611084,
                        "bin_end": 8.097938537597656,
                        "count": 1346
                      },
                      {
                        "bin_start": 8.097938537597656,
                        "bin_end": 12.409577369689941,
                        "count": 1089
                      },
                      {
                        "bin_start": 12.409577369689941,
                        "bin_end": 16.721216201782227,
                        "count": 516
                      },
                      {
                        "bin_start": 16.721216201782227,
                        "bin_end": 21.032854080200195,
                        "count": 214
                      },
                      {
                        "bin_start": 21.032854080200195,
                        "bin_end": 25.344493865966797,
                        "count": 63
                      },
                      {
                        "bin_start": 25.344493865966797,
                        "bin_end": 29.656131744384766,
                        "count": 9
                      }
                    ]
                  }
                },
                {
                  "name": "Actuals",
                  "dtype": "float64",
                  "stats": {
                    "unique_count": 2076,
                    "nan_count": 0,
                    "min": "-13.67",
                    "max": "29.77",
                    "histogram": [
                      {
                        "bin_start": -13.67,
                        "bin_end": -9.326,
                        "count": 23
                      },
                      {
                        "bin_start": -9.326,
                        "bin_end": -4.982000000000001,
                        "count": 28
                      },
                      {
                        "bin_start": -4.982000000000001,
                        "bin_end": -0.6380000000000017,
                        "count": 484
                      },
                      {
                        "bin_start": -0.6380000000000017,
                        "bin_end": 3.7059999999999977,
                        "count": 1187
                      },
                      {
                        "bin_start": 3.7059999999999977,
                        "bin_end": 8.049999999999999,
                        "count": 1393
                      },
                      {
                        "bin_start": 8.049999999999999,
                        "bin_end": 12.393999999999997,
                        "count": 1092
                      },
                      {
                        "bin_start": 12.393999999999997,
                        "bin_end": 16.737999999999992,
                        "count": 508
                      },
                      {
                        "bin_start": 16.737999999999992,
                        "bin_end": 21.081999999999994,
                        "count": 210
                      },
                      {
                        "bin_start": 21.081999999999994,
                        "bin_end": 25.425999999999995,
                        "count": 67
                      },
                      {
                        "bin_start": 25.425999999999995,
                        "bin_end": 29.77,
                        "count": 8
                      }
                    ]
                  }
                },
                {
                  "name": "_deepnote_index_column",
                  "dtype": "int64"
                }
              ],
              "rows": [
                {
                  "Val Predictions": 15.532569885253906,
                  "Actuals": 14.02,
                  "_deepnote_index_column": 0
                },
                {
                  "Val Predictions": 13.25564956665039,
                  "Actuals": 13.67,
                  "_deepnote_index_column": 1
                },
                {
                  "Val Predictions": 13.056093215942383,
                  "Actuals": 12.27,
                  "_deepnote_index_column": 2
                },
                {
                  "Val Predictions": 11.54527473449707,
                  "Actuals": 11.19,
                  "_deepnote_index_column": 3
                },
                {
                  "Val Predictions": 10.424230575561523,
                  "Actuals": 10.85,
                  "_deepnote_index_column": 4
                },
                {
                  "Val Predictions": 10.36981201171875,
                  "Actuals": 9.95,
                  "_deepnote_index_column": 5
                },
                {
                  "Val Predictions": 9.465078353881836,
                  "Actuals": 9.98,
                  "_deepnote_index_column": 6
                },
                {
                  "Val Predictions": 9.822696685791016,
                  "Actuals": 8.64,
                  "_deepnote_index_column": 7
                },
                {
                  "Val Predictions": 8.05039119720459,
                  "Actuals": 8.64,
                  "_deepnote_index_column": 8
                },
                {
                  "Val Predictions": 8.375529289245605,
                  "Actuals": 8.57,
                  "_deepnote_index_column": 9
                }
              ]
            },
            "text/plain": "      Val Predictions  Actuals\n0           15.532570    14.02\n1           13.255650    13.67\n2           13.056093    12.27\n3           11.545275    11.19\n4           10.424231    10.85\n...               ...      ...\n4995        17.292095    18.27\n4996        17.362385    17.85\n4997        17.172123    16.65\n4998        15.875072    15.85\n4999        15.088545    15.09\n\n[5000 rows x 2 columns]",
            "text/html": "<div>\n<style scoped>\n    .dataframe tbody tr th:only-of-type {\n        vertical-align: middle;\n    }\n\n    .dataframe tbody tr th {\n        vertical-align: top;\n    }\n\n    .dataframe thead th {\n        text-align: right;\n    }\n</style>\n<table border=\"1\" class=\"dataframe\">\n  <thead>\n    <tr style=\"text-align: right;\">\n      <th></th>\n      <th>Val Predictions</th>\n      <th>Actuals</th>\n    </tr>\n  </thead>\n  <tbody>\n    <tr>\n      <th>0</th>\n      <td>15.532570</td>\n      <td>14.02</td>\n    </tr>\n    <tr>\n      <th>1</th>\n      <td>13.255650</td>\n      <td>13.67</td>\n    </tr>\n    <tr>\n      <th>2</th>\n      <td>13.056093</td>\n      <td>12.27</td>\n    </tr>\n    <tr>\n      <th>3</th>\n      <td>11.545275</td>\n      <td>11.19</td>\n    </tr>\n    <tr>\n      <th>4</th>\n      <td>10.424231</td>\n      <td>10.85</td>\n    </tr>\n    <tr>\n      <th>...</th>\n      <td>...</td>\n      <td>...</td>\n    </tr>\n    <tr>\n      <th>4995</th>\n      <td>17.292095</td>\n      <td>18.27</td>\n    </tr>\n    <tr>\n      <th>4996</th>\n      <td>17.362385</td>\n      <td>17.85</td>\n    </tr>\n    <tr>\n      <th>4997</th>\n      <td>17.172123</td>\n      <td>16.65</td>\n    </tr>\n    <tr>\n      <th>4998</th>\n      <td>15.875072</td>\n      <td>15.85</td>\n    </tr>\n    <tr>\n      <th>4999</th>\n      <td>15.088545</td>\n      <td>15.09</td>\n    </tr>\n  </tbody>\n</table>\n<p>5000 rows × 2 columns</p>\n</div>"
          },
          "metadata": {}
        }
      ],
      "execution_count": 17
    },
    {
      "cell_type": "markdown",
      "source": "Vemos como se comportan, los datos reales con los de validación.  ",
      "metadata": {
        "formattedRanges": [],
        "cell_id": "57364d4986c04c34bce4d671f69ff02f",
        "deepnote_cell_type": "text-cell-p"
      }
    },
    {
      "cell_type": "code",
      "source": "plt.plot(val_results['Val Predictions'][:500])\nplt.plot(val_results['Actuals'][:500])",
      "metadata": {
        "source_hash": "55f67264",
        "execution_start": 1689619747240,
        "execution_millis": 116,
        "deepnote_to_be_reexecuted": false,
        "cell_id": "750437c85c0d4eed8735c9812135ae6b",
        "deepnote_cell_type": "code"
      },
      "outputs": [
        {
          "output_type": "execute_result",
          "execution_count": 18,
          "data": {
            "text/plain": "[<matplotlib.lines.Line2D at 0x7fc7b2ae1280>]"
          },
          "metadata": {}
        },
        {
          "data": {
            "text/plain": "<Figure size 640x480 with 1 Axes>",
            "image/png": "[encoded data removed]"
          },
          "metadata": {
            "image/png": {
              "width": 543,
              "height": 413
            }
          },
          "output_type": "display_data"
        }
      ],
      "execution_count": 18
    },
    {
      "cell_type": "markdown",
      "source": "<a style='text-decoration:none;line-height:16px;display:flex;color:#5B5B62;padding:10px;justify-content:end;' href='https://deepnote.com?utm_source=created-in-deepnote-cell&projectId=2bea62e9-8d22-46a6-9eb4-51194a5da2d7' target=\"_blank\">\n<img alt='Created in deepnote.com' style='display:inline;max-height:16px;margin:0px;margin-right:7.5px;' src='data:image/svg+xml;base64,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' > </img>\nCreated in <span style='font-weight:600;margin-left:4px;'>Deepnote</span></a>",
      "metadata": {
        "created_in_deepnote_cell": true,
        "deepnote_cell_type": "markdown"
      }
    }
  ],
  "nbformat": 4,
  "nbformat_minor": 0,
  "metadata": {
    "deepnote": {},
    "orig_nbformat": 2,
    "deepnote_notebook_id": "93cf757657d4406f83051ceb56675c39",
    "deepnote_execution_queue": []
  }
}