{
  "cells": [
    {
      "cell_type": "markdown",
      "source": "La idea de este proyecto es usarlo como ejemplo, para implementarlo en el proyecto de Bitcoin y hacer una comparativa entre ambas predicciones LGBM vs LSTM. ",
      "metadata": {
        "formattedRanges": [],
        "cell_id": "fdb7a9d67a7a49049d59927dbb9daed2",
        "deepnote_cell_type": "text-cell-p"
      }
    },
    {
      "cell_type": "code",
      "source": "import tensorflow as tf\nimport os\nimport pandas as pd \nimport numpy as np \nimport seaborn as sns",
      "metadata": {
        "source_hash": "d1ff491a",
        "execution_start": 1689622598873,
        "execution_millis": 8984,
        "deepnote_to_be_reexecuted": false,
        "cell_id": "68e6ae994d694db58aeb85852485e1f9",
        "deepnote_cell_type": "code"
      },
      "outputs": [
        {
          "name": "stderr",
          "text": "2023-07-17 19:36:38.851241: I tensorflow/core/platform/cpu_feature_guard.cc:193] This TensorFlow binary is optimized with oneAPI Deep Neural Network Library (oneDNN) to use the following CPU instructions in performance-critical operations:  AVX2 AVX512F FMA\nTo enable them in other operations, rebuild TensorFlow with the appropriate compiler flags.\n2023-07-17 19:36:39.065713: W tensorflow/stream_executor/platform/default/dso_loader.cc:64] Could not load dynamic library 'libcudart.so.11.0'; dlerror: libcudart.so.11.0: cannot open shared object file: No such file or directory\n2023-07-17 19:36:39.065747: I tensorflow/stream_executor/cuda/cudart_stub.cc:29] Ignore above cudart dlerror if you do not have a GPU set up on your machine.\n2023-07-17 19:36:39.100362: E tensorflow/stream_executor/cuda/cuda_blas.cc:2981] Unable to register cuBLAS factory: Attempting to register factory for plugin cuBLAS when one has already been registered\n2023-07-17 19:36:41.607319: W tensorflow/stream_executor/platform/default/dso_loader.cc:64] Could not load dynamic library 'libnvinfer.so.7'; dlerror: libnvinfer.so.7: cannot open shared object file: No such file or directory\n2023-07-17 19:36:41.607428: W tensorflow/stream_executor/platform/default/dso_loader.cc:64] Could not load dynamic library 'libnvinfer_plugin.so.7'; dlerror: libnvinfer_plugin.so.7: cannot open shared object file: No such file or directory\n2023-07-17 19:36:41.607443: W tensorflow/compiler/tf2tensorrt/utils/py_utils.cc:38] TF-TRT Warning: Cannot dlopen some TensorRT libraries. If you would like to use Nvidia GPU with TensorRT, please make sure the missing libraries mentioned above are installed properly.\n",
          "output_type": "stream"
        }
      ],
      "execution_count": 1
    },
    {
      "cell_type": "markdown",
      "source": "Extraemos data de temperatura, presión, etc...  ",
      "metadata": {
        "formattedRanges": [],
        "cell_id": "2c5e574ca58044a684df27559da8467e",
        "deepnote_cell_type": "text-cell-p"
      }
    },
    {
      "cell_type": "code",
      "source": "zip_path = tf.keras.utils.get_file(\n    origin='https://storage.googleapis.com/tensorflow/tf-keras-datasets/jena_climate_2009_2016.csv.zip', \n    fname='jena_climate_2009_2016.csv.zip',\n    extract=True)\ncsv_path, _ = os.path.splitext(zip_path)",
      "metadata": {
        "source_hash": "c16cc21d",
        "execution_start": 1689622607788,
        "execution_millis": 376,
        "deepnote_to_be_reexecuted": false,
        "cell_id": "504056d31dde4887aeab3cc121ba9cb6",
        "deepnote_cell_type": "code"
      },
      "outputs": [],
      "execution_count": 2
    },
    {
      "cell_type": "markdown",
      "source": "el dataframe se ve de la siguiente forma, ",
      "metadata": {
        "formattedRanges": [],
        "cell_id": "6533f11bcef74fcfbd8e5edc9405b18a",
        "deepnote_cell_type": "text-cell-p"
      }
    },
    {
      "cell_type": "code",
      "source": "df = pd.read_csv(csv_path)\ndf.tail()  ",
      "metadata": {
        "source_hash": "5ee011b6",
        "execution_start": 1689622608164,
        "execution_millis": 1184,
        "deepnote_to_be_reexecuted": false,
        "cell_id": "f9c08114fcaf4250ba55d293f0644719",
        "deepnote_cell_type": "code"
      },
      "outputs": [
        {
          "output_type": "execute_result",
          "execution_count": 3,
          "data": {
            "application/vnd.deepnote.dataframe.v3+json": {
              "column_count": 15,
              "row_count": 5,
              "columns": [
                {
                  "name": "Date Time",
                  "dtype": "object",
                  "stats": {
                    "unique_count": 5,
                    "nan_count": 0,
                    "categories": [
                      {
                        "name": "31.12.2016 23:20:00",
                        "count": 1
                      },
                      {
                        "name": "31.12.2016 23:30:00",
                        "count": 1
                      },
                      {
                        "name": "3 others",
                        "count": 3
                      }
                    ]
                  }
                },
                {
                  "name": "p (mbar)",
                  "dtype": "float64",
                  "stats": {
                    "unique_count": 4,
                    "nan_count": 0,
                    "min": "999.81",
                    "max": "1000.07",
                    "histogram": [
                      {
                        "bin_start": 999.81,
                        "bin_end": 999.836,
                        "count": 3
                      },
                      {
                        "bin_start": 999.836,
                        "bin_end": 999.862,
                        "count": 0
                      },
                      {
                        "bin_start": 999.862,
                        "bin_end": 999.8879999999999,
                        "count": 0
                      },
                      {
                        "bin_start": 999.8879999999999,
                        "bin_end": 999.914,
                        "count": 0
                      },
                      {
                        "bin_start": 999.914,
                        "bin_end": 999.94,
                        "count": 1
                      },
                      {
                        "bin_start": 999.94,
                        "bin_end": 999.966,
                        "count": 0
                      },
                      {
                        "bin_start": 999.966,
                        "bin_end": 999.992,
                        "count": 0
                      },
                      {
                        "bin_start": 999.992,
                        "bin_end": 1000.018,
                        "count": 0
                      },
                      {
                        "bin_start": 1000.018,
                        "bin_end": 1000.0440000000001,
                        "count": 0
                      },
                      {
                        "bin_start": 1000.0440000000001,
                        "bin_end": 1000.07,
                        "count": 1
                      }
                    ]
                  }
                },
                {
                  "name": "T (degC)",
                  "dtype": "float64",
                  "stats": {
                    "unique_count": 5,
                    "nan_count": 0,
                    "min": "-4.82",
                    "max": "-3.16",
                    "histogram": [
                      {
                        "bin_start": -4.82,
                        "bin_end": -4.654,
                        "count": 1
                      },
                      {
                        "bin_start": -4.654,
                        "bin_end": -4.488,
                        "count": 0
                      },
                      {
                        "bin_start": -4.488,
                        "bin_end": -4.322,
                        "count": 0
                      },
                      {
                        "bin_start": -4.322,
                        "bin_end": -4.156000000000001,
                        "count": 1
                      },
                      {
                        "bin_start": -4.156000000000001,
                        "bin_end": -3.99,
                        "count": 1
                      },
                      {
                        "bin_start": -3.99,
                        "bin_end": -3.8240000000000003,
                        "count": 0
                      },
                      {
                        "bin_start": -3.8240000000000003,
                        "bin_end": -3.6580000000000004,
                        "count": 0
                      },
                      {
                        "bin_start": -3.6580000000000004,
                        "bin_end": -3.492,
                        "count": 0
                      },
                      {
                        "bin_start": -3.492,
                        "bin_end": -3.3260000000000005,
                        "count": 1
                      },
                      {
                        "bin_start": -3.3260000000000005,
                        "bin_end": -3.16,
                        "count": 1
                      }
                    ]
                  }
                },
                {
                  "name": "Tpot (K)",
                  "dtype": "float64",
                  "stats": {
                    "unique_count": 5,
                    "nan_count": 0,
                    "min": "268.36",
                    "max": "270.01",
                    "histogram": [
                      {
                        "bin_start": 268.36,
                        "bin_end": 268.52500000000003,
                        "count": 1
                      },
                      {
                        "bin_start": 268.52500000000003,
                        "bin_end": 268.69,
                        "count": 0
                      },
                      {
                        "bin_start": 268.69,
                        "bin_end": 268.855,
                        "count": 0
                      },
                      {
                        "bin_start": 268.855,
                        "bin_end": 269.02,
                        "count": 1
                      },
                      {
                        "bin_start": 269.02,
                        "bin_end": 269.185,
                        "count": 1
                      },
                      {
                        "bin_start": 269.185,
                        "bin_end": 269.35,
                        "count": 0
                      },
                      {
                        "bin_start": 269.35,
                        "bin_end": 269.515,
                        "count": 0
                      },
                      {
                        "bin_start": 269.515,
                        "bin_end": 269.68,
                        "count": 0
                      },
                      {
                        "bin_start": 269.68,
                        "bin_end": 269.84499999999997,
                        "count": 1
                      },
                      {
                        "bin_start": 269.84499999999997,
                        "bin_end": 270.01,
                        "count": 1
                      }
                    ]
                  }
                },
                {
                  "name": "Tdew (degC)",
                  "dtype": "float64",
                  "stats": {
                    "unique_count": 5,
                    "nan_count": 0,
                    "min": "-8.53",
                    "max": "-8.06",
                    "histogram": [
                      {
                        "bin_start": -8.53,
                        "bin_end": -8.482999999999999,
                        "count": 1
                      },
                      {
                        "bin_start": -8.482999999999999,
                        "bin_end": -8.436,
                        "count": 0
                      },
                      {
                        "bin_start": -8.436,
                        "bin_end": -8.389,
                        "count": 1
                      },
                      {
                        "bin_start": -8.389,
                        "bin_end": -8.342,
                        "count": 0
                      },
                      {
                        "bin_start": -8.342,
                        "bin_end": -8.295,
                        "count": 0
                      },
                      {
                        "bin_start": -8.295,
                        "bin_end": -8.248,
                        "count": 0
                      },
                      {
                        "bin_start": -8.248,
                        "bin_end": -8.201,
                        "count": 1
                      },
                      {
                        "bin_start": -8.201,
                        "bin_end": -8.154,
                        "count": 0
                      },
                      {
                        "bin_start": -8.154,
                        "bin_end": -8.107000000000001,
                        "count": 1
                      },
                      {
                        "bin_start": -8.107000000000001,
                        "bin_end": -8.06,
                        "count": 1
                      }
                    ]
                  }
                },
                {
                  "name": "rh (%)",
                  "dtype": "float64",
                  "stats": {
                    "unique_count": 5,
                    "nan_count": 0,
                    "min": "67.91",
                    "max": "75.7",
                    "histogram": [
                      {
                        "bin_start": 67.91,
                        "bin_end": 68.689,
                        "count": 1
                      },
                      {
                        "bin_start": 68.689,
                        "bin_end": 69.468,
                        "count": 0
                      },
                      {
                        "bin_start": 69.468,
                        "bin_end": 70.247,
                        "count": 1
                      },
                      {
                        "bin_start": 70.247,
                        "bin_end": 71.026,
                        "count": 0
                      },
                      {
                        "bin_start": 71.026,
                        "bin_end": 71.805,
                        "count": 1
                      },
                      {
                        "bin_start": 71.805,
                        "bin_end": 72.584,
                        "count": 0
                      },
                      {
                        "bin_start": 72.584,
                        "bin_end": 73.363,
                        "count": 1
                      },
                      {
                        "bin_start": 73.363,
                        "bin_end": 74.142,
                        "count": 0
                      },
                      {
                        "bin_start": 74.142,
                        "bin_end": 74.921,
                        "count": 0
                      },
                      {
                        "bin_start": 74.921,
                        "bin_end": 75.7,
                        "count": 1
                      }
                    ]
                  }
                },
                {
                  "name": "VPmax (mbar)",
                  "dtype": "float64",
                  "stats": {
                    "unique_count": 5,
                    "nan_count": 0,
                    "min": "4.27",
                    "max": "4.84",
                    "histogram": [
                      {
                        "bin_start": 4.27,
                        "bin_end": 4.327,
                        "count": 1
                      },
                      {
                        "bin_start": 4.327,
                        "bin_end": 4.3839999999999995,
                        "count": 0
                      },
                      {
                        "bin_start": 4.3839999999999995,
                        "bin_end": 4.441,
                        "count": 0
                      },
                      {
                        "bin_start": 4.441,
                        "bin_end": 4.497999999999999,
                        "count": 1
                      },
                      {
                        "bin_start": 4.497999999999999,
                        "bin_end": 4.555,
                        "count": 1
                      },
                      {
                        "bin_start": 4.555,
                        "bin_end": 4.612,
                        "count": 0
                      },
                      {
                        "bin_start": 4.612,
                        "bin_end": 4.669,
                        "count": 0
                      },
                      {
                        "bin_start": 4.669,
                        "bin_end": 4.726,
                        "count": 0
                      },
                      {
                        "bin_start": 4.726,
                        "bin_end": 4.7829999999999995,
                        "count": 1
                      },
                      {
                        "bin_start": 4.7829999999999995,
                        "bin_end": 4.84,
                        "count": 1
                      }
                    ]
                  }
                },
                {
                  "name": "VPact (mbar)",
                  "dtype": "float64",
                  "stats": {
                    "unique_count": 5,
                    "nan_count": 0,
                    "min": "3.2",
                    "max": "3.32",
                    "histogram": [
                      {
                        "bin_start": 3.2,
                        "bin_end": 3.212,
                        "count": 1
                      },
                      {
                        "bin_start": 3.212,
                        "bin_end": 3.224,
                        "count": 0
                      },
                      {
                        "bin_start": 3.224,
                        "bin_end": 3.236,
                        "count": 1
                      },
                      {
                        "bin_start": 3.236,
                        "bin_end": 3.248,
                        "count": 0
                      },
                      {
                        "bin_start": 3.248,
                        "bin_end": 3.26,
                        "count": 0
                      },
                      {
                        "bin_start": 3.26,
                        "bin_end": 3.272,
                        "count": 0
                      },
                      {
                        "bin_start": 3.272,
                        "bin_end": 3.284,
                        "count": 1
                      },
                      {
                        "bin_start": 3.284,
                        "bin_end": 3.296,
                        "count": 0
                      },
                      {
                        "bin_start": 3.296,
                        "bin_end": 3.308,
                        "count": 1
                      },
                      {
                        "bin_start": 3.308,
                        "bin_end": 3.32,
                        "count": 1
                      }
                    ]
                  }
                },
                {
                  "name": "VPdef (mbar)",
                  "dtype": "float64",
                  "stats": {
                    "unique_count": 5,
                    "nan_count": 0,
                    "min": "1.04",
                    "max": "1.55",
                    "histogram": [
                      {
                        "bin_start": 1.04,
                        "bin_end": 1.091,
                        "count": 1
                      },
                      {
                        "bin_start": 1.091,
                        "bin_end": 1.1420000000000001,
                        "count": 0
                      },
                      {
                        "bin_start": 1.1420000000000001,
                        "bin_end": 1.193,
                        "count": 0
                      },
                      {
                        "bin_start": 1.193,
                        "bin_end": 1.244,
                        "count": 1
                      },
                      {
                        "bin_start": 1.244,
                        "bin_end": 1.295,
                        "count": 1
                      },
                      {
                        "bin_start": 1.295,
                        "bin_end": 1.346,
                        "count": 0
                      },
                      {
                        "bin_start": 1.346,
                        "bin_end": 1.397,
                        "count": 0
                      },
                      {
                        "bin_start": 1.397,
                        "bin_end": 1.448,
                        "count": 1
                      },
                      {
                        "bin_start": 1.448,
                        "bin_end": 1.499,
                        "count": 0
                      },
                      {
                        "bin_start": 1.499,
                        "bin_end": 1.55,
                        "count": 1
                      }
                    ]
                  }
                },
                {
                  "name": "sh (g/kg)",
                  "dtype": "float64",
                  "stats": {
                    "unique_count": 5,
                    "nan_count": 0,
                    "min": "1.99",
                    "max": "2.07",
                    "histogram": [
                      {
                        "bin_start": 1.99,
                        "bin_end": 1.998,
                        "count": 1
                      },
                      {
                        "bin_start": 1.998,
                        "bin_end": 2.006,
                        "count": 0
                      },
                      {
                        "bin_start": 2.006,
                        "bin_end": 2.014,
                        "count": 1
                      },
                      {
                        "bin_start": 2.014,
                        "bin_end": 2.022,
                        "count": 0
                      },
                      {
                        "bin_start": 2.022,
                        "bin_end": 2.03,
                        "count": 0
                      },
                      {
                        "bin_start": 2.03,
                        "bin_end": 2.038,
                        "count": 0
                      },
                      {
                        "bin_start": 2.038,
                        "bin_end": 2.046,
                        "count": 0
                      },
                      {
                        "bin_start": 2.046,
                        "bin_end": 2.054,
                        "count": 1
                      },
                      {
                        "bin_start": 2.054,
                        "bin_end": 2.062,
                        "count": 1
                      },
                      {
                        "bin_start": 2.062,
                        "bin_end": 2.07,
                        "count": 1
                      }
                    ]
                  }
                },
                {
                  "name": "H2OC (mmol/mol)",
                  "dtype": "float64",
                  "stats": {
                    "unique_count": 5,
                    "nan_count": 0,
                    "min": "3.2",
                    "max": "3.32",
                    "histogram": [
                      {
                        "bin_start": 3.2,
                        "bin_end": 3.212,
                        "count": 1
                      },
                      {
                        "bin_start": 3.212,
                        "bin_end": 3.224,
                        "count": 0
                      },
                      {
                        "bin_start": 3.224,
                        "bin_end": 3.236,
                        "count": 1
                      },
                      {
                        "bin_start": 3.236,
                        "bin_end": 3.248,
                        "count": 0
                      },
                      {
                        "bin_start": 3.248,
                        "bin_end": 3.26,
                        "count": 0
                      },
                      {
                        "bin_start": 3.26,
                        "bin_end": 3.272,
                        "count": 0
                      },
                      {
                        "bin_start": 3.272,
                        "bin_end": 3.284,
                        "count": 1
                      },
                      {
                        "bin_start": 3.284,
                        "bin_end": 3.296,
                        "count": 0
                      },
                      {
                        "bin_start": 3.296,
                        "bin_end": 3.308,
                        "count": 1
                      },
                      {
                        "bin_start": 3.308,
                        "bin_end": 3.32,
                        "count": 1
                      }
                    ]
                  }
                },
                {
                  "name": "rho (g/m**3)",
                  "dtype": "float64",
                  "stats": {
                    "unique_count": 5,
                    "nan_count": 0,
                    "min": "1288.39",
                    "max": "1296.38",
                    "histogram": [
                      {
                        "bin_start": 1288.39,
                        "bin_end": 1289.189,
                        "count": 1
                      },
                      {
                        "bin_start": 1289.189,
                        "bin_end": 1289.988,
                        "count": 1
                      },
                      {
                        "bin_start": 1289.988,
                        "bin_end": 1290.787,
                        "count": 0
                      },
                      {
                        "bin_start": 1290.787,
                        "bin_end": 1291.586,
                        "count": 0
                      },
                      {
                        "bin_start": 1291.586,
                        "bin_end": 1292.3850000000002,
                        "count": 0
                      },
                      {
                        "bin_start": 1292.3850000000002,
                        "bin_end": 1293.1840000000002,
                        "count": 1
                      },
                      {
                        "bin_start": 1293.1840000000002,
                        "bin_end": 1293.9830000000002,
                        "count": 1
                      },
                      {
                        "bin_start": 1293.9830000000002,
                        "bin_end": 1294.7820000000002,
                        "count": 0
                      },
                      {
                        "bin_start": 1294.7820000000002,
                        "bin_end": 1295.5810000000001,
                        "count": 0
                      },
                      {
                        "bin_start": 1295.5810000000001,
                        "bin_end": 1296.38,
                        "count": 1
                      }
                    ]
                  }
                },
                {
                  "name": "wv (m/s)",
                  "dtype": "float64",
                  "stats": {
                    "unique_count": 5,
                    "nan_count": 0,
                    "min": "0.67",
                    "max": "1.49",
                    "histogram": [
                      {
                        "bin_start": 0.67,
                        "bin_end": 0.752,
                        "count": 1
                      },
                      {
                        "bin_start": 0.752,
                        "bin_end": 0.8340000000000001,
                        "count": 0
                      },
                      {
                        "bin_start": 0.8340000000000001,
                        "bin_end": 0.916,
                        "count": 0
                      },
                      {
                        "bin_start": 0.916,
                        "bin_end": 0.998,
                        "count": 0
                      },
                      {
                        "bin_start": 0.998,
                        "bin_end": 1.08,
                        "count": 0
                      },
                      {
                        "bin_start": 1.08,
                        "bin_end": 1.162,
                        "count": 2
                      },
                      {
                        "bin_start": 1.162,
                        "bin_end": 1.244,
                        "count": 1
                      },
                      {
                        "bin_start": 1.244,
                        "bin_end": 1.326,
                        "count": 0
                      },
                      {
                        "bin_start": 1.326,
                        "bin_end": 1.408,
                        "count": 0
                      },
                      {
                        "bin_start": 1.408,
                        "bin_end": 1.49,
                        "count": 1
                      }
                    ]
                  }
                },
                {
                  "name": "max. wv (m/s)",
                  "dtype": "float64",
                  "stats": {
                    "unique_count": 5,
                    "nan_count": 0,
                    "min": "1.52",
                    "max": "2.16",
                    "histogram": [
                      {
                        "bin_start": 1.52,
                        "bin_end": 1.584,
                        "count": 1
                      },
                      {
                        "bin_start": 1.584,
                        "bin_end": 1.6480000000000001,
                        "count": 0
                      },
                      {
                        "bin_start": 1.6480000000000001,
                        "bin_end": 1.7120000000000002,
                        "count": 0
                      },
                      {
                        "bin_start": 1.7120000000000002,
                        "bin_end": 1.776,
                        "count": 0
                      },
                      {
                        "bin_start": 1.776,
                        "bin_end": 1.84,
                        "count": 0
                      },
                      {
                        "bin_start": 1.84,
                        "bin_end": 1.9040000000000001,
                        "count": 0
                      },
                      {
                        "bin_start": 1.9040000000000001,
                        "bin_end": 1.9680000000000002,
                        "count": 2
                      },
                      {
                        "bin_start": 1.9680000000000002,
                        "bin_end": 2.032,
                        "count": 1
                      },
                      {
                        "bin_start": 2.032,
                        "bin_end": 2.096,
                        "count": 0
                      },
                      {
                        "bin_start": 2.096,
                        "bin_end": 2.16,
                        "count": 1
                      }
                    ]
                  }
                },
                {
                  "name": "wd (deg)",
                  "dtype": "float64",
                  "stats": {
                    "unique_count": 5,
                    "nan_count": 0,
                    "min": "184.9",
                    "max": "240.0",
                    "histogram": [
                      {
                        "bin_start": 184.9,
                        "bin_end": 190.41,
                        "count": 1
                      },
                      {
                        "bin_start": 190.41,
                        "bin_end": 195.92000000000002,
                        "count": 0
                      },
                      {
                        "bin_start": 195.92000000000002,
                        "bin_end": 201.43,
                        "count": 0
                      },
                      {
                        "bin_start": 201.43,
                        "bin_end": 206.94,
                        "count": 0
                      },
                      {
                        "bin_start": 206.94,
                        "bin_end": 212.45,
                        "count": 0
                      },
                      {
                        "bin_start": 212.45,
                        "bin_end": 217.96,
                        "count": 1
                      },
                      {
                        "bin_start": 217.96,
                        "bin_end": 223.47,
                        "count": 0
                      },
                      {
                        "bin_start": 223.47,
                        "bin_end": 228.98000000000002,
                        "count": 1
                      },
                      {
                        "bin_start": 228.98000000000002,
                        "bin_end": 234.49,
                        "count": 1
                      },
                      {
                        "bin_start": 234.49,
                        "bin_end": 240,
                        "count": 1
                      }
                    ]
                  }
                },
                {
                  "name": "_deepnote_index_column",
                  "dtype": "int64"
                }
              ],
              "rows": [
                {
                  "Date Time": "31.12.2016 23:20:00",
                  "p (mbar)": 1000.07,
                  "T (degC)": -4.05,
                  "Tpot (K)": 269.1,
                  "Tdew (degC)": -8.13,
                  "rh (%)": 73.1,
                  "VPmax (mbar)": 4.52,
                  "VPact (mbar)": 3.3,
                  "VPdef (mbar)": 1.22,
                  "sh (g/kg)": 2.06,
                  "H2OC (mmol/mol)": 3.3,
                  "rho (g/m**3)": 1292.98,
                  "wv (m/s)": 0.67,
                  "max. wv (m/s)": 1.52,
                  "wd (deg)": 240,
                  "_deepnote_index_column": 420546
                },
                {
                  "Date Time": "31.12.2016 23:30:00",
                  "p (mbar)": 999.93,
                  "T (degC)": -3.35,
                  "Tpot (K)": 269.81,
                  "Tdew (degC)": -8.06,
                  "rh (%)": 69.71,
                  "VPmax (mbar)": 4.77,
                  "VPact (mbar)": 3.32,
                  "VPdef (mbar)": 1.44,
                  "sh (g/kg)": 2.07,
                  "H2OC (mmol/mol)": 3.32,
                  "rho (g/m**3)": 1289.44,
                  "wv (m/s)": 1.14,
                  "max. wv (m/s)": 1.92,
                  "wd (deg)": 234.3,
                  "_deepnote_index_column": 420547
                },
                {
                  "Date Time": "31.12.2016 23:40:00",
                  "p (mbar)": 999.82,
                  "T (degC)": -3.16,
                  "Tpot (K)": 270.01,
                  "Tdew (degC)": -8.21,
                  "rh (%)": 67.91,
                  "VPmax (mbar)": 4.84,
                  "VPact (mbar)": 3.28,
                  "VPdef (mbar)": 1.55,
                  "sh (g/kg)": 2.05,
                  "H2OC (mmol/mol)": 3.28,
                  "rho (g/m**3)": 1288.39,
                  "wv (m/s)": 1.08,
                  "max. wv (m/s)": 2,
                  "wd (deg)": 215.2,
                  "_deepnote_index_column": 420548
                },
                {
                  "Date Time": "31.12.2016 23:50:00",
                  "p (mbar)": 999.81,
                  "T (degC)": -4.23,
                  "Tpot (K)": 268.94,
                  "Tdew (degC)": -8.53,
                  "rh (%)": 71.8,
                  "VPmax (mbar)": 4.46,
                  "VPact (mbar)": 3.2,
                  "VPdef (mbar)": 1.26,
                  "sh (g/kg)": 1.99,
                  "H2OC (mmol/mol)": 3.2,
                  "rho (g/m**3)": 1293.56,
                  "wv (m/s)": 1.49,
                  "max. wv (m/s)": 2.16,
                  "wd (deg)": 225.8,
                  "_deepnote_index_column": 420549
                },
                {
                  "Date Time": "01.01.2017 00:00:00",
                  "p (mbar)": 999.82,
                  "T (degC)": -4.82,
                  "Tpot (K)": 268.36,
                  "Tdew (degC)": -8.42,
                  "rh (%)": 75.7,
                  "VPmax (mbar)": 4.27,
                  "VPact (mbar)": 3.23,
                  "VPdef (mbar)": 1.04,
                  "sh (g/kg)": 2.01,
                  "H2OC (mmol/mol)": 3.23,
                  "rho (g/m**3)": 1296.38,
                  "wv (m/s)": 1.23,
                  "max. wv (m/s)": 1.96,
                  "wd (deg)": 184.9,
                  "_deepnote_index_column": 420550
                }
              ]
            },
            "text/plain": "                  Date Time  p (mbar)  T (degC)  Tpot (K)  Tdew (degC)  \\\n420546  31.12.2016 23:20:00   1000.07     -4.05    269.10        -8.13   \n420547  31.12.2016 23:30:00    999.93     -3.35    269.81        -8.06   \n420548  31.12.2016 23:40:00    999.82     -3.16    270.01        -8.21   \n420549  31.12.2016 23:50:00    999.81     -4.23    268.94        -8.53   \n420550  01.01.2017 00:00:00    999.82     -4.82    268.36        -8.42   \n\n        rh (%)  VPmax (mbar)  VPact (mbar)  VPdef (mbar)  sh (g/kg)  \\\n420546   73.10          4.52          3.30          1.22       2.06   \n420547   69.71          4.77          3.32          1.44       2.07   \n420548   67.91          4.84          3.28          1.55       2.05   \n420549   71.80          4.46          3.20          1.26       1.99   \n420550   75.70          4.27          3.23          1.04       2.01   \n\n        H2OC (mmol/mol)  rho (g/m**3)  wv (m/s)  max. wv (m/s)  wd (deg)  \n420546             3.30       1292.98      0.67           1.52     240.0  \n420547             3.32       1289.44      1.14           1.92     234.3  \n420548             3.28       1288.39      1.08           2.00     215.2  \n420549             3.20       1293.56      1.49           2.16     225.8  \n420550             3.23       1296.38      1.23           1.96     184.9  ",
            "text/html": "<div>\n<style scoped>\n    .dataframe tbody tr th:only-of-type {\n        vertical-align: middle;\n    }\n\n    .dataframe tbody tr th {\n        vertical-align: top;\n    }\n\n    .dataframe thead th {\n        text-align: right;\n    }\n</style>\n<table border=\"1\" class=\"dataframe\">\n  <thead>\n    <tr style=\"text-align: right;\">\n      <th></th>\n      <th>Date Time</th>\n      <th>p (mbar)</th>\n      <th>T (degC)</th>\n      <th>Tpot (K)</th>\n      <th>Tdew (degC)</th>\n      <th>rh (%)</th>\n      <th>VPmax (mbar)</th>\n      <th>VPact (mbar)</th>\n      <th>VPdef (mbar)</th>\n      <th>sh (g/kg)</th>\n      <th>H2OC (mmol/mol)</th>\n      <th>rho (g/m**3)</th>\n      <th>wv (m/s)</th>\n      <th>max. wv (m/s)</th>\n      <th>wd (deg)</th>\n    </tr>\n  </thead>\n  <tbody>\n    <tr>\n      <th>420546</th>\n      <td>31.12.2016 23:20:00</td>\n      <td>1000.07</td>\n      <td>-4.05</td>\n      <td>269.10</td>\n      <td>-8.13</td>\n      <td>73.10</td>\n      <td>4.52</td>\n      <td>3.30</td>\n      <td>1.22</td>\n      <td>2.06</td>\n      <td>3.30</td>\n      <td>1292.98</td>\n      <td>0.67</td>\n      <td>1.52</td>\n      <td>240.0</td>\n    </tr>\n    <tr>\n      <th>420547</th>\n      <td>31.12.2016 23:30:00</td>\n      <td>999.93</td>\n      <td>-3.35</td>\n      <td>269.81</td>\n      <td>-8.06</td>\n      <td>69.71</td>\n      <td>4.77</td>\n      <td>3.32</td>\n      <td>1.44</td>\n      <td>2.07</td>\n      <td>3.32</td>\n      <td>1289.44</td>\n      <td>1.14</td>\n      <td>1.92</td>\n      <td>234.3</td>\n    </tr>\n    <tr>\n      <th>420548</th>\n      <td>31.12.2016 23:40:00</td>\n      <td>999.82</td>\n      <td>-3.16</td>\n      <td>270.01</td>\n      <td>-8.21</td>\n      <td>67.91</td>\n      <td>4.84</td>\n      <td>3.28</td>\n      <td>1.55</td>\n      <td>2.05</td>\n      <td>3.28</td>\n      <td>1288.39</td>\n      <td>1.08</td>\n      <td>2.00</td>\n      <td>215.2</td>\n    </tr>\n    <tr>\n      <th>420549</th>\n      <td>31.12.2016 23:50:00</td>\n      <td>999.81</td>\n      <td>-4.23</td>\n      <td>268.94</td>\n      <td>-8.53</td>\n      <td>71.80</td>\n      <td>4.46</td>\n      <td>3.20</td>\n      <td>1.26</td>\n      <td>1.99</td>\n      <td>3.20</td>\n      <td>1293.56</td>\n      <td>1.49</td>\n      <td>2.16</td>\n      <td>225.8</td>\n    </tr>\n    <tr>\n      <th>420550</th>\n      <td>01.01.2017 00:00:00</td>\n      <td>999.82</td>\n      <td>-4.82</td>\n      <td>268.36</td>\n      <td>-8.42</td>\n      <td>75.70</td>\n      <td>4.27</td>\n      <td>3.23</td>\n      <td>1.04</td>\n      <td>2.01</td>\n      <td>3.23</td>\n      <td>1296.38</td>\n      <td>1.23</td>\n      <td>1.96</td>\n      <td>184.9</td>\n    </tr>\n  </tbody>\n</table>\n</div>"
          },
          "metadata": {}
        }
      ],
      "execution_count": 3
    },
    {
      "cell_type": "markdown",
      "source": "La cantidad de info en muchísima, consideramos la data cada una hora. ",
      "metadata": {
        "formattedRanges": [],
        "cell_id": "6fdfaadd3e8c4616a6aba3a528cc32d5",
        "deepnote_cell_type": "text-cell-p"
      }
    },
    {
      "cell_type": "code",
      "source": "df = df[5::6] \ndf",
      "metadata": {
        "source_hash": "7f8d966",
        "execution_start": 1689622609002,
        "execution_millis": 707,
        "deepnote_to_be_reexecuted": false,
        "cell_id": "bdc75ce210a342639af36b9b823b7e58",
        "deepnote_cell_type": "code"
      },
      "outputs": [
        {
          "output_type": "execute_result",
          "execution_count": 4,
          "data": {
            "application/vnd.deepnote.dataframe.v3+json": {
              "column_count": 15,
              "row_count": 70091,
              "columns": [
                {
                  "name": "Date Time",
                  "dtype": "object",
                  "stats": {
                    "unique_count": 70067,
                    "nan_count": 0,
                    "categories": [
                      {
                        "name": "01.07.2010 00:20:00",
                        "count": 2
                      },
                      {
                        "name": "01.07.2010 01:20:00",
                        "count": 2
                      },
                      {
                        "name": "70065 others",
                        "count": 70087
                      }
                    ]
                  }
                },
                {
                  "name": "p (mbar)",
                  "dtype": "float64"
                },
                {
                  "name": "T (degC)",
                  "dtype": "float64"
                },
                {
                  "name": "Tpot (K)",
                  "dtype": "float64"
                },
                {
                  "name": "Tdew (degC)",
                  "dtype": "float64"
                },
                {
                  "name": "rh (%)",
                  "dtype": "float64"
                },
                {
                  "name": "VPmax (mbar)",
                  "dtype": "float64"
                },
                {
                  "name": "VPact (mbar)",
                  "dtype": "float64"
                },
                {
                  "name": "VPdef (mbar)",
                  "dtype": "float64"
                },
                {
                  "name": "sh (g/kg)",
                  "dtype": "float64"
                },
                {
                  "name": "H2OC (mmol/mol)",
                  "dtype": "float64"
                },
                {
                  "name": "rho (g/m**3)",
                  "dtype": "float64"
                },
                {
                  "name": "wv (m/s)",
                  "dtype": "float64"
                },
                {
                  "name": "max. wv (m/s)",
                  "dtype": "float64"
                },
                {
                  "name": "wd (deg)",
                  "dtype": "float64"
                },
                {
                  "name": "_deepnote_index_column",
                  "dtype": "int64"
                }
              ],
              "rows": [
                {
                  "Date Time": "01.01.2009 01:00:00",
                  "p (mbar)": 996.5,
                  "T (degC)": -8.05,
                  "Tpot (K)": 265.38,
                  "Tdew (degC)": -8.78,
                  "rh (%)": 94.4,
                  "VPmax (mbar)": 3.33,
                  "VPact (mbar)": 3.14,
                  "VPdef (mbar)": 0.19,
                  "sh (g/kg)": 1.96,
                  "H2OC (mmol/mol)": 3.15,
                  "rho (g/m**3)": 1307.86,
                  "wv (m/s)": 0.21,
                  "max. wv (m/s)": 0.63,
                  "wd (deg)": 192.7,
                  "_deepnote_index_column": 5
                },
                {
                  "Date Time": "01.01.2009 02:00:00",
                  "p (mbar)": 996.62,
                  "T (degC)": -8.88,
                  "Tpot (K)": 264.54,
                  "Tdew (degC)": -9.77,
                  "rh (%)": 93.2,
                  "VPmax (mbar)": 3.12,
                  "VPact (mbar)": 2.9,
                  "VPdef (mbar)": 0.21,
                  "sh (g/kg)": 1.81,
                  "H2OC (mmol/mol)": 2.91,
                  "rho (g/m**3)": 1312.25,
                  "wv (m/s)": 0.25,
                  "max. wv (m/s)": 0.63,
                  "wd (deg)": 190.3,
                  "_deepnote_index_column": 11
                },
                {
                  "Date Time": "01.01.2009 03:00:00",
                  "p (mbar)": 996.84,
                  "T (degC)": -8.81,
                  "Tpot (K)": 264.59,
                  "Tdew (degC)": -9.66,
                  "rh (%)": 93.5,
                  "VPmax (mbar)": 3.13,
                  "VPact (mbar)": 2.93,
                  "VPdef (mbar)": 0.2,
                  "sh (g/kg)": 1.83,
                  "H2OC (mmol/mol)": 2.94,
                  "rho (g/m**3)": 1312.18,
                  "wv (m/s)": 0.18,
                  "max. wv (m/s)": 0.63,
                  "wd (deg)": 167.2,
                  "_deepnote_index_column": 17
                },
                {
                  "Date Time": "01.01.2009 04:00:00",
                  "p (mbar)": 996.99,
                  "T (degC)": -9.05,
                  "Tpot (K)": 264.34,
                  "Tdew (degC)": -10.02,
                  "rh (%)": 92.6,
                  "VPmax (mbar)": 3.07,
                  "VPact (mbar)": 2.85,
                  "VPdef (mbar)": 0.23,
                  "sh (g/kg)": 1.78,
                  "H2OC (mmol/mol)": 2.85,
                  "rho (g/m**3)": 1313.61,
                  "wv (m/s)": 0.1,
                  "max. wv (m/s)": 0.38,
                  "wd (deg)": 240,
                  "_deepnote_index_column": 23
                },
                {
                  "Date Time": "01.01.2009 05:00:00",
                  "p (mbar)": 997.46,
                  "T (degC)": -9.63,
                  "Tpot (K)": 263.72,
                  "Tdew (degC)": -10.65,
                  "rh (%)": 92.2,
                  "VPmax (mbar)": 2.94,
                  "VPact (mbar)": 2.71,
                  "VPdef (mbar)": 0.23,
                  "sh (g/kg)": 1.69,
                  "H2OC (mmol/mol)": 2.71,
                  "rho (g/m**3)": 1317.19,
                  "wv (m/s)": 0.4,
                  "max. wv (m/s)": 0.88,
                  "wd (deg)": 157,
                  "_deepnote_index_column": 29
                },
                {
                  "Date Time": "01.01.2009 06:00:00",
                  "p (mbar)": 997.71,
                  "T (degC)": -9.67,
                  "Tpot (K)": 263.66,
                  "Tdew (degC)": -10.62,
                  "rh (%)": 92.7,
                  "VPmax (mbar)": 2.93,
                  "VPact (mbar)": 2.71,
                  "VPdef (mbar)": 0.21,
                  "sh (g/kg)": 1.69,
                  "H2OC (mmol/mol)": 2.72,
                  "rho (g/m**3)": 1317.71,
                  "wv (m/s)": 0.05,
                  "max. wv (m/s)": 0.5,
                  "wd (deg)": 146,
                  "_deepnote_index_column": 35
                },
                {
                  "Date Time": "01.01.2009 07:00:00",
                  "p (mbar)": 998.33,
                  "T (degC)": -9.17,
                  "Tpot (K)": 264.12,
                  "Tdew (degC)": -10.1,
                  "rh (%)": 92.9,
                  "VPmax (mbar)": 3.04,
                  "VPact (mbar)": 2.83,
                  "VPdef (mbar)": 0.22,
                  "sh (g/kg)": 1.76,
                  "H2OC (mmol/mol)": 2.83,
                  "rho (g/m**3)": 1315.98,
                  "wv (m/s)": 2.08,
                  "max. wv (m/s)": 2.88,
                  "wd (deg)": 348.8,
                  "_deepnote_index_column": 41
                },
                {
                  "Date Time": "01.01.2009 08:00:00",
                  "p (mbar)": 999.17,
                  "T (degC)": -8.1,
                  "Tpot (K)": 265.12,
                  "Tdew (degC)": -9.05,
                  "rh (%)": 92.8,
                  "VPmax (mbar)": 3.31,
                  "VPact (mbar)": 3.07,
                  "VPdef (mbar)": 0.24,
                  "sh (g/kg)": 1.92,
                  "H2OC (mmol/mol)": 3.08,
                  "rho (g/m**3)": 1311.65,
                  "wv (m/s)": 0.72,
                  "max. wv (m/s)": 1.25,
                  "wd (deg)": 213.9,
                  "_deepnote_index_column": 47
                },
                {
                  "Date Time": "01.01.2009 09:00:00",
                  "p (mbar)": 999.69,
                  "T (degC)": -7.66,
                  "Tpot (K)": 265.52,
                  "Tdew (degC)": -8.84,
                  "rh (%)": 91.2,
                  "VPmax (mbar)": 3.43,
                  "VPact (mbar)": 3.13,
                  "VPdef (mbar)": 0.3,
                  "sh (g/kg)": 1.95,
                  "H2OC (mmol/mol)": 3.13,
                  "rho (g/m**3)": 1310.14,
                  "wv (m/s)": 0.34,
                  "max. wv (m/s)": 0.63,
                  "wd (deg)": 202.2,
                  "_deepnote_index_column": 53
                },
                {
                  "Date Time": "01.01.2009 10:00:00",
                  "p (mbar)": 1000.27,
                  "T (degC)": -7.04,
                  "Tpot (K)": 266.1,
                  "Tdew (degC)": -8.17,
                  "rh (%)": 91.6,
                  "VPmax (mbar)": 3.6,
                  "VPact (mbar)": 3.3,
                  "VPdef (mbar)": 0.3,
                  "sh (g/kg)": 2.05,
                  "H2OC (mmol/mol)": 3.29,
                  "rho (g/m**3)": 1307.76,
                  "wv (m/s)": 1.45,
                  "max. wv (m/s)": 3,
                  "wd (deg)": 292.6,
                  "_deepnote_index_column": 59
                }
              ]
            },
            "text/plain": "                  Date Time  p (mbar)  T (degC)  Tpot (K)  Tdew (degC)  \\\n5       01.01.2009 01:00:00    996.50     -8.05    265.38        -8.78   \n11      01.01.2009 02:00:00    996.62     -8.88    264.54        -9.77   \n17      01.01.2009 03:00:00    996.84     -8.81    264.59        -9.66   \n23      01.01.2009 04:00:00    996.99     -9.05    264.34       -10.02   \n29      01.01.2009 05:00:00    997.46     -9.63    263.72       -10.65   \n...                     ...       ...       ...       ...          ...   \n420521  31.12.2016 19:10:00   1002.18     -0.98    272.01        -5.36   \n420527  31.12.2016 20:10:00   1001.40     -1.40    271.66        -6.84   \n420533  31.12.2016 21:10:00   1001.19     -2.75    270.32        -6.90   \n420539  31.12.2016 22:10:00   1000.65     -2.89    270.22        -7.15   \n420545  31.12.2016 23:10:00   1000.11     -3.93    269.23        -8.09   \n\n        rh (%)  VPmax (mbar)  VPact (mbar)  VPdef (mbar)  sh (g/kg)  \\\n5        94.40          3.33          3.14          0.19       1.96   \n11       93.20          3.12          2.90          0.21       1.81   \n17       93.50          3.13          2.93          0.20       1.83   \n23       92.60          3.07          2.85          0.23       1.78   \n29       92.20          2.94          2.71          0.23       1.69   \n...        ...           ...           ...           ...        ...   \n420521   72.00          5.69          4.09          1.59       2.54   \n420527   66.29          5.51          3.65          1.86       2.27   \n420533   72.90          4.99          3.64          1.35       2.26   \n420539   72.30          4.93          3.57          1.37       2.22   \n420545   72.60          4.56          3.31          1.25       2.06   \n\n        H2OC (mmol/mol)  rho (g/m**3)  wv (m/s)  max. wv (m/s)  wd (deg)  \n5                  3.15       1307.86      0.21           0.63     192.7  \n11                 2.91       1312.25      0.25           0.63     190.3  \n17                 2.94       1312.18      0.18           0.63     167.2  \n23                 2.85       1313.61      0.10           0.38     240.0  \n29                 2.71       1317.19      0.40           0.88     157.0  \n...                 ...           ...       ...            ...       ...  \n420521             4.08       1280.70      0.87           1.36     190.6  \n420527             3.65       1281.87      1.02           1.92     225.4  \n420533             3.63       1288.02      0.71           1.56     158.7  \n420539             3.57       1288.03      0.35           0.68     216.7  \n420545             3.31       1292.41      0.56           1.00     202.6  \n\n[70091 rows x 15 columns]",
            "text/html": "<div>\n<style scoped>\n    .dataframe tbody tr th:only-of-type {\n        vertical-align: middle;\n    }\n\n    .dataframe tbody tr th {\n        vertical-align: top;\n    }\n\n    .dataframe thead th {\n        text-align: right;\n    }\n</style>\n<table border=\"1\" class=\"dataframe\">\n  <thead>\n    <tr style=\"text-align: right;\">\n      <th></th>\n      <th>Date Time</th>\n      <th>p (mbar)</th>\n      <th>T (degC)</th>\n      <th>Tpot (K)</th>\n      <th>Tdew (degC)</th>\n      <th>rh (%)</th>\n      <th>VPmax (mbar)</th>\n      <th>VPact (mbar)</th>\n      <th>VPdef (mbar)</th>\n      <th>sh (g/kg)</th>\n      <th>H2OC (mmol/mol)</th>\n      <th>rho (g/m**3)</th>\n      <th>wv (m/s)</th>\n      <th>max. wv (m/s)</th>\n      <th>wd (deg)</th>\n    </tr>\n  </thead>\n  <tbody>\n    <tr>\n      <th>5</th>\n      <td>01.01.2009 01:00:00</td>\n      <td>996.50</td>\n      <td>-8.05</td>\n      <td>265.38</td>\n      <td>-8.78</td>\n      <td>94.40</td>\n      <td>3.33</td>\n      <td>3.14</td>\n      <td>0.19</td>\n      <td>1.96</td>\n      <td>3.15</td>\n      <td>1307.86</td>\n      <td>0.21</td>\n      <td>0.63</td>\n      <td>192.7</td>\n    </tr>\n    <tr>\n      <th>11</th>\n      <td>01.01.2009 02:00:00</td>\n      <td>996.62</td>\n      <td>-8.88</td>\n      <td>264.54</td>\n      <td>-9.77</td>\n      <td>93.20</td>\n      <td>3.12</td>\n      <td>2.90</td>\n      <td>0.21</td>\n      <td>1.81</td>\n      <td>2.91</td>\n      <td>1312.25</td>\n      <td>0.25</td>\n      <td>0.63</td>\n      <td>190.3</td>\n    </tr>\n    <tr>\n      <th>17</th>\n      <td>01.01.2009 03:00:00</td>\n      <td>996.84</td>\n      <td>-8.81</td>\n      <td>264.59</td>\n      <td>-9.66</td>\n      <td>93.50</td>\n      <td>3.13</td>\n      <td>2.93</td>\n      <td>0.20</td>\n      <td>1.83</td>\n      <td>2.94</td>\n      <td>1312.18</td>\n      <td>0.18</td>\n      <td>0.63</td>\n      <td>167.2</td>\n    </tr>\n    <tr>\n      <th>23</th>\n      <td>01.01.2009 04:00:00</td>\n      <td>996.99</td>\n      <td>-9.05</td>\n      <td>264.34</td>\n      <td>-10.02</td>\n      <td>92.60</td>\n      <td>3.07</td>\n      <td>2.85</td>\n      <td>0.23</td>\n      <td>1.78</td>\n      <td>2.85</td>\n      <td>1313.61</td>\n      <td>0.10</td>\n      <td>0.38</td>\n      <td>240.0</td>\n    </tr>\n    <tr>\n      <th>29</th>\n      <td>01.01.2009 05:00:00</td>\n      <td>997.46</td>\n      <td>-9.63</td>\n      <td>263.72</td>\n      <td>-10.65</td>\n      <td>92.20</td>\n      <td>2.94</td>\n      <td>2.71</td>\n      <td>0.23</td>\n      <td>1.69</td>\n      <td>2.71</td>\n      <td>1317.19</td>\n      <td>0.40</td>\n      <td>0.88</td>\n      <td>157.0</td>\n    </tr>\n    <tr>\n      <th>...</th>\n      <td>...</td>\n      <td>...</td>\n      <td>...</td>\n      <td>...</td>\n      <td>...</td>\n      <td>...</td>\n      <td>...</td>\n      <td>...</td>\n      <td>...</td>\n      <td>...</td>\n      <td>...</td>\n      <td>...</td>\n      <td>...</td>\n      <td>...</td>\n      <td>...</td>\n    </tr>\n    <tr>\n      <th>420521</th>\n      <td>31.12.2016 19:10:00</td>\n      <td>1002.18</td>\n      <td>-0.98</td>\n      <td>272.01</td>\n      <td>-5.36</td>\n      <td>72.00</td>\n      <td>5.69</td>\n      <td>4.09</td>\n      <td>1.59</td>\n      <td>2.54</td>\n      <td>4.08</td>\n      <td>1280.70</td>\n      <td>0.87</td>\n      <td>1.36</td>\n      <td>190.6</td>\n    </tr>\n    <tr>\n      <th>420527</th>\n      <td>31.12.2016 20:10:00</td>\n      <td>1001.40</td>\n      <td>-1.40</td>\n      <td>271.66</td>\n      <td>-6.84</td>\n      <td>66.29</td>\n      <td>5.51</td>\n      <td>3.65</td>\n      <td>1.86</td>\n      <td>2.27</td>\n      <td>3.65</td>\n      <td>1281.87</td>\n      <td>1.02</td>\n      <td>1.92</td>\n      <td>225.4</td>\n    </tr>\n    <tr>\n      <th>420533</th>\n      <td>31.12.2016 21:10:00</td>\n      <td>1001.19</td>\n      <td>-2.75</td>\n      <td>270.32</td>\n      <td>-6.90</td>\n      <td>72.90</td>\n      <td>4.99</td>\n      <td>3.64</td>\n      <td>1.35</td>\n      <td>2.26</td>\n      <td>3.63</td>\n      <td>1288.02</td>\n      <td>0.71</td>\n      <td>1.56</td>\n      <td>158.7</td>\n    </tr>\n    <tr>\n      <th>420539</th>\n      <td>31.12.2016 22:10:00</td>\n      <td>1000.65</td>\n      <td>-2.89</td>\n      <td>270.22</td>\n      <td>-7.15</td>\n      <td>72.30</td>\n      <td>4.93</td>\n      <td>3.57</td>\n      <td>1.37</td>\n      <td>2.22</td>\n      <td>3.57</td>\n      <td>1288.03</td>\n      <td>0.35</td>\n      <td>0.68</td>\n      <td>216.7</td>\n    </tr>\n    <tr>\n      <th>420545</th>\n      <td>31.12.2016 23:10:00</td>\n      <td>1000.11</td>\n      <td>-3.93</td>\n      <td>269.23</td>\n      <td>-8.09</td>\n      <td>72.60</td>\n      <td>4.56</td>\n      <td>3.31</td>\n      <td>1.25</td>\n      <td>2.06</td>\n      <td>3.31</td>\n      <td>1292.41</td>\n      <td>0.56</td>\n      <td>1.00</td>\n      <td>202.6</td>\n    </tr>\n  </tbody>\n</table>\n<p>70091 rows × 15 columns</p>\n</div>"
          },
          "metadata": {}
        }
      ],
      "execution_count": 4
    },
    {
      "cell_type": "markdown",
      "source": "Nos concentramos en la temperatura, creamos un nuevo dataframe llamado temp. ",
      "metadata": {
        "formattedRanges": [],
        "cell_id": "7174e034439e49d4b6982137d349beeb",
        "deepnote_cell_type": "text-cell-p"
      }
    },
    {
      "cell_type": "code",
      "source": "df.index = pd.to_datetime(df['Date Time'], format='%d.%m.%Y %H:%M:%S')\ntemp = df['T (degC)']\nsns.scatterplot(data=temp)",
      "metadata": {
        "source_hash": "ae0f4f05",
        "execution_start": 1689622609419,
        "execution_millis": 299,
        "deepnote_to_be_reexecuted": false,
        "cell_id": "9191de8c93654c39bd17236e46c891ba",
        "deepnote_cell_type": "code"
      },
      "outputs": [
        {
          "output_type": "execute_result",
          "execution_count": 5,
          "data": {
            "text/plain": "<AxesSubplot: xlabel='Date Time', ylabel='T (degC)'>"
          },
          "metadata": {}
        },
        {
          "data": {
            "text/plain": "<Figure size 640x480 with 1 Axes>",
            "image/png": "[encoded data removed]"
          },
          "metadata": {
            "image/png": {
              "width": 574,
              "height": 436
            }
          },
          "output_type": "display_data"
        }
      ],
      "execution_count": 5
    },
    {
      "cell_type": "markdown",
      "source": "Vemos que los datos tienen cierta regularidad. Debería ser posible hacer una predicción. Preparando la data para el forecast, tenemos que lograr esto en nuestra serie de tiempo: ",
      "metadata": {
        "formattedRanges": [],
        "cell_id": "713e773c524a465a8b98f6ae7db6b896",
        "deepnote_cell_type": "text-cell-p"
      }
    },
    {
      "cell_type": "code",
      "source": "# [[[1],[2],[3],[4],[5]]]   [6] \n# [[[2],[3],[4],[5],[6]]]   [7]\n# [[[3],[4],[5],[6],[7]]]   [8]\n#         X                  y",
      "metadata": {
        "source_hash": "1a1d8f77",
        "execution_start": 1689622610229,
        "execution_millis": 32,
        "deepnote_to_be_reexecuted": false,
        "cell_id": "0bd678d0694f4434b204b38cfb9b84e1",
        "deepnote_cell_type": "code"
      },
      "outputs": [],
      "execution_count": 6
    },
    {
      "cell_type": "markdown",
      "source": "\"X\" tiene la forma de 'lista de listas', donde para cada línea, la serie de tiempo aumenta en una unidad. Lo mismo ocurre para la columna \"y\". Creamos una función que transforma el dataframe de temp en \"X\" e \"y\".   ",
      "metadata": {
        "formattedRanges": [],
        "cell_id": "f7e918f1edc244f7a8334df2d19fa871",
        "deepnote_cell_type": "text-cell-p"
      }
    },
    {
      "cell_type": "code",
      "source": "def df_to_X_y(df, window_size=5): #El ws corresponde a el largo del row, podría no ser siempre igual. \n    df_as_np = df.to_numpy()\n    X = []\n    y = []\n    for i in range(len(df_as_np)-window_size):\n        row = [[a] for a in df_as_np[i:i+5]]\n        X.append(row) # Agregamos la lista en X\n        label = df_as_np[i+5]\n        y.append(label) # Agregamos el elemento que corresponde en y\n    return np.array(X), np.array(y)",
      "metadata": {
        "source_hash": "2856ebce",
        "execution_start": 1689622610230,
        "execution_millis": 174,
        "deepnote_to_be_reexecuted": false,
        "cell_id": "2711707bda9a4cee8ce58cf36870e983",
        "deepnote_cell_type": "code"
      },
      "outputs": [],
      "execution_count": 7
    },
    {
      "cell_type": "code",
      "source": "WINDOW_SIZE = 5\nX, y = df_to_X_y(temp, WINDOW_SIZE)\nX.shape, y.shape",
      "metadata": {
        "source_hash": "7378abfc",
        "execution_start": 1689622610370,
        "execution_millis": 843,
        "deepnote_to_be_reexecuted": false,
        "cell_id": "fb4984c558514c769610320736fae011",
        "deepnote_cell_type": "code"
      },
      "outputs": [
        {
          "output_type": "execute_result",
          "execution_count": 8,
          "data": {
            "text/plain": "((70086, 5, 1), (70086,))"
          },
          "metadata": {}
        }
      ],
      "execution_count": 8
    },
    {
      "cell_type": "markdown",
      "source": "El shape de X es (N° de filas, N° de col, elementos). Si vemos el dataframe temp, no concuerda la cantidad de datos (70091) con el shape de X (70086). Esto es, porque los últimos 5 terminos de temp no alcanzan a 'iterar' en la función. Ahora definimos los valores de entrenamiento:      ",
      "metadata": {
        "formattedRanges": [],
        "cell_id": "d204739e52d74deeaaeba125df9fbb31",
        "deepnote_cell_type": "text-cell-p"
      }
    },
    {
      "cell_type": "code",
      "source": "X_train, y_train = X[:60000], y[:60000] \nX_val, y_val = X[60000:65000], y[60000:65000]\nX_test, y_test = X[65000:], y[65000:]\nX_train.shape, y_train.shape, X_val.shape, y_val.shape, X_test.shape, y_test.shape  ",
      "metadata": {
        "source_hash": "dc13c223",
        "execution_start": 1689622611218,
        "execution_millis": 12,
        "deepnote_to_be_reexecuted": false,
        "cell_id": "c74cfa9c03a042f8b22715a2fa189025",
        "deepnote_cell_type": "code"
      },
      "outputs": [
        {
          "output_type": "execute_result",
          "execution_count": 9,
          "data": {
            "text/plain": "((60000, 5, 1), (60000,), (5000, 5, 1), (5000,), (5086, 5, 1), (5086,))"
          },
          "metadata": {}
        }
      ],
      "execution_count": 9
    },
    {
      "cell_type": "markdown",
      "source": "Acá, entrenaremos con los primeros 60000 términos. La segunda línea es de validación 60000-65000, estos datos son ocupados por el algoritmo para ajustar sus propios parámetros en cada 'epoch' y dismimuir el error. La tercera línea es de testeo, la usaremos para ver como predice nuestro forecast respecto a datos reales. Importamos los paquetes necesarios, llamamos a nuestro modelo 'model1' y tendrá los parámetros para realizar el forecast.              ",
      "metadata": {
        "formattedRanges": [],
        "cell_id": "fe420282ca6846f28cb91ae6e970beb5",
        "deepnote_cell_type": "text-cell-p"
      }
    },
    {
      "cell_type": "code",
      "source": "from tensorflow.keras.models import Sequential\nfrom tensorflow.keras.layers import *\nfrom tensorflow.keras.callbacks import ModelCheckpoint\nfrom tensorflow.keras.losses import MeanSquaredError\nfrom tensorflow.keras.metrics import RootMeanSquaredError\nfrom tensorflow.keras.optimizers import Adam\n\nmodel1= Sequential() #Keras es una API secuencial \nmodel1.add(InputLayer((5, 1))) #Especificamos el 'shape' de X\nmodel1.add(LSTM(64)) # Especificamos la dimensionalidad del espacio de salida\nmodel1.add(Dense(8, 'relu'))     \nmodel1.add(Dense(1, 'linear'))\n\nmodel1.summary()",
      "metadata": {
        "source_hash": "46cbf13a",
        "execution_start": 1689622611227,
        "execution_millis": 436,
        "deepnote_to_be_reexecuted": false,
        "cell_id": "74004d3265d74926976e30b9587ea17d",
        "deepnote_cell_type": "code"
      },
      "outputs": [
        {
          "name": "stderr",
          "text": "2023-07-17 19:36:51.228997: W tensorflow/stream_executor/platform/default/dso_loader.cc:64] Could not load dynamic library 'libcuda.so.1'; dlerror: libcuda.so.1: cannot open shared object file: No such file or directory\n2023-07-17 19:36:51.229031: W tensorflow/stream_executor/cuda/cuda_driver.cc:263] failed call to cuInit: UNKNOWN ERROR (303)\n2023-07-17 19:36:51.229052: I tensorflow/stream_executor/cuda/cuda_diagnostics.cc:156] kernel driver does not appear to be running on this host (p-2bea62e9-8d22-46a6-9eb4-51194a5da2d7): /proc/driver/nvidia/version does not exist\n2023-07-17 19:36:51.229272: I tensorflow/core/platform/cpu_feature_guard.cc:193] This TensorFlow binary is optimized with oneAPI Deep Neural Network Library (oneDNN) to use the following CPU instructions in performance-critical operations:  AVX2 AVX512F FMA\nTo enable them in other operations, rebuild TensorFlow with the appropriate compiler flags.\nModel: \"sequential\"\n_________________________________________________________________\n Layer (type)                Output Shape              Param #   \n=================================================================\n lstm (LSTM)                 (None, 64)                16896     \n                                                                 \n dense (Dense)               (None, 8)                 520       \n                                                                 \n dense_1 (Dense)             (None, 1)                 9         \n                                                                 \n=================================================================\nTotal params: 17,425\nTrainable params: 17,425\nNon-trainable params: 0\n_________________________________________________________________\n",
          "output_type": "stream"
        }
      ],
      "execution_count": 10
    },
    {
      "cell_type": "markdown",
      "source": "Acá las instrucciones Dense(UNITS,ACTIVATION) (fully-connected layer) indica que las neuronas de la iteración x están conectadas con todas las neuronas de la iteración x+1. UNITS:It is the most primitive of all the parameters. It accepts only a positive integer and defines the size of the output vector from the dense layer,i.e., determines the size of the weight matrix along with the bias vector. ACTIVATION: It helps define the activation function that can be applied per element of a dense layer. There are various types of activation functions provided by Keras, such as relu, sigmoid, softmax, Selu, Elu, Tanh, and many more. If not specified, it uses a linear activation function. Finalmente lo importante es que comenzamos con una red neuronal de muchos parámetros, la función Dense (8) y Dense (1) solo nos entrega uno, como resultado de la predicción.   Ahora creamos un CheckPoint y generamos el compilador,  ",
      "metadata": {
        "formattedRanges": [
          {
            "type": "marks",
            "marks": {
              "underline": true
            },
            "toCodePoint": 178,
            "fromCodePoint": 173
          },
          {
            "type": "marks",
            "marks": {
              "underline": true
            },
            "toCodePoint": 410,
            "fromCodePoint": 400
          }
        ],
        "cell_id": "c44fda40233b4da7a2a8aa6c09a4492d",
        "deepnote_cell_type": "text-cell-p"
      }
    },
    {
      "cell_type": "code",
      "source": "cp = ModelCheckpoint('model1/', save_best_only=True) #Solo guarda la iteración que tenga el menor 'validation loss' \nmodel1.compile(loss=MeanSquaredError(), optimizer=Adam(learning_rate=0.0001), metrics=[RootMeanSquaredError()])",
      "metadata": {
        "source_hash": "2f1c867b",
        "execution_start": 1689622611599,
        "execution_millis": 13,
        "deepnote_to_be_reexecuted": false,
        "cell_id": "8e767912583443ceaf3d153414bd69a9",
        "deepnote_cell_type": "code"
      },
      "outputs": [],
      "execution_count": 11
    },
    {
      "cell_type": "markdown",
      "source": "El optimizer es crucial para determinar la precisión de la predicción, acá dejo una descripción de cada posibilidad: https://deepdatascience.wordpress.com/2016/11/18/which-lstm-optimizer-to-use/ , el learning_rate es un valor que si lo aumentamos, el modelo logrará reducir más rapidamente el 'validation loss', pero no siempre un valor alto es más óptimo, depende del dataset. Ahora entrenamos el modelo y generamos la predicción. La predicción quedará guardada en la carpeta 'model1'.  ",
      "metadata": {
        "formattedRanges": [
          {
            "url": "https://deepdatascience.wordpress.com/2016/11/18/which-lstm-optimizer-to-use/",
            "type": "link",
            "ranges": [],
            "toCodePoint": 194,
            "fromCodePoint": 117
          }
        ],
        "cell_id": "42ac5e7f8afe4dcd89535fab0313e3c6",
        "deepnote_cell_type": "text-cell-p"
      }
    },
    {
      "cell_type": "code",
      "source": "model1.fit(X_train, y_train, validation_data=(X_val, y_val),epochs=10, callbacks=[cp])",
      "metadata": {
        "source_hash": "f4ecd994",
        "execution_start": 1689622611610,
        "execution_millis": 173982,
        "deepnote_to_be_reexecuted": false,
        "cell_id": "644a972391d6499caf8adcef568bfe60",
        "deepnote_cell_type": "code"
      },
      "outputs": [
        {
          "name": "stdout",
          "text": "Epoch 1/10\n1870/1875 [============================>.] - ETA: 0s - loss: 76.4217 - root_mean_squared_error: 8.7420WARNING:absl:Found untraced functions such as lstm_cell_layer_call_fn, lstm_cell_layer_call_and_return_conditional_losses while saving (showing 2 of 2). These functions will not be directly callable after loading.\nINFO:tensorflow:Assets written to: model1/assets\nINFO:tensorflow:Assets written to: model1/assets\n1875/1875 [==============================] - 20s 10ms/step - loss: 76.2868 - root_mean_squared_error: 8.7342 - val_loss: 5.1214 - val_root_mean_squared_error: 2.2631\nEpoch 2/10\n1866/1875 [============================>.] - ETA: 0s - loss: 8.7591 - root_mean_squared_error: 2.9596WARNING:absl:Found untraced functions such as lstm_cell_layer_call_fn, lstm_cell_layer_call_and_return_conditional_losses while saving (showing 2 of 2). These functions will not be directly callable after loading.\nINFO:tensorflow:Assets written to: model1/assets\nINFO:tensorflow:Assets written to: model1/assets\n1875/1875 [==============================] - 18s 10ms/step - loss: 8.7358 - root_mean_squared_error: 2.9556 - val_loss: 0.8361 - val_root_mean_squared_error: 0.9144\nEpoch 3/10\n1872/1875 [============================>.] - ETA: 0s - loss: 1.8945 - root_mean_squared_error: 1.3764WARNING:absl:Found untraced functions such as lstm_cell_layer_call_fn, lstm_cell_layer_call_and_return_conditional_losses while saving (showing 2 of 2). These functions will not be directly callable after loading.\nINFO:tensorflow:Assets written to: model1/assets\nINFO:tensorflow:Assets written to: model1/assets\n1875/1875 [==============================] - 18s 10ms/step - loss: 1.8948 - root_mean_squared_error: 1.3765 - val_loss: 0.6126 - val_root_mean_squared_error: 0.7827\nEpoch 4/10\n1871/1875 [============================>.] - ETA: 0s - loss: 0.9503 - root_mean_squared_error: 0.9748WARNING:absl:Found untraced functions such as lstm_cell_layer_call_fn, lstm_cell_layer_call_and_return_conditional_losses while saving (showing 2 of 2). These functions will not be directly callable after loading.\nINFO:tensorflow:Assets written to: model1/assets\nINFO:tensorflow:Assets written to: model1/assets\n1875/1875 [==============================] - 18s 10ms/step - loss: 0.9499 - root_mean_squared_error: 0.9746 - val_loss: 0.5323 - val_root_mean_squared_error: 0.7296\nEpoch 5/10\n1874/1875 [============================>.] - ETA: 0s - loss: 0.7415 - root_mean_squared_error: 0.8611WARNING:absl:Found untraced functions such as lstm_cell_layer_call_fn, lstm_cell_layer_call_and_return_conditional_losses while saving (showing 2 of 2). These functions will not be directly callable after loading.\nINFO:tensorflow:Assets written to: model1/assets\nINFO:tensorflow:Assets written to: model1/assets\n1875/1875 [==============================] - 19s 10ms/step - loss: 0.7415 - root_mean_squared_error: 0.8611 - val_loss: 0.5120 - val_root_mean_squared_error: 0.7155\nEpoch 6/10\n1872/1875 [============================>.] - ETA: 0s - loss: 0.6847 - root_mean_squared_error: 0.8275WARNING:absl:Found untraced functions such as lstm_cell_layer_call_fn, lstm_cell_layer_call_and_return_conditional_losses while saving (showing 2 of 2). These functions will not be directly callable after loading.\nINFO:tensorflow:Assets written to: model1/assets\nINFO:tensorflow:Assets written to: model1/assets\n1875/1875 [==============================] - 18s 10ms/step - loss: 0.6847 - root_mean_squared_error: 0.8275 - val_loss: 0.4952 - val_root_mean_squared_error: 0.7037\nEpoch 7/10\n1875/1875 [==============================] - 15s 8ms/step - loss: 0.6652 - root_mean_squared_error: 0.8156 - val_loss: 0.5099 - val_root_mean_squared_error: 0.7141\nEpoch 8/10\n1875/1875 [==============================] - 14s 8ms/step - loss: 0.6551 - root_mean_squared_error: 0.8094 - val_loss: 0.5174 - val_root_mean_squared_error: 0.7193\nEpoch 9/10\n1875/1875 [==============================] - 14s 8ms/step - loss: 0.6495 - root_mean_squared_error: 0.8059 - val_loss: 0.5162 - val_root_mean_squared_error: 0.7185\nEpoch 10/10\n1862/1875 [============================>.] - ETA: 0s - loss: 0.6449 - root_mean_squared_error: 0.8031WARNING:absl:Found untraced functions such as lstm_cell_layer_call_fn, lstm_cell_layer_call_and_return_conditional_losses while saving (showing 2 of 2). These functions will not be directly callable after loading.\nINFO:tensorflow:Assets written to: model1/assets\nINFO:tensorflow:Assets written to: model1/assets\n1875/1875 [==============================] - 18s 10ms/step - loss: 0.6457 - root_mean_squared_error: 0.8036 - val_loss: 0.4868 - val_root_mean_squared_error: 0.6977\n",
          "output_type": "stream"
        },
        {
          "output_type": "execute_result",
          "execution_count": 12,
          "data": {
            "text/plain": "<keras.callbacks.History at 0x7f5141710af0>"
          },
          "metadata": {}
        }
      ],
      "execution_count": 12
    },
    {
      "cell_type": "markdown",
      "source": "Importamos la data guardada. ",
      "metadata": {
        "formattedRanges": [],
        "cell_id": "c7cff046ffff4584b8b322b430808797",
        "deepnote_cell_type": "text-cell-p"
      }
    },
    {
      "cell_type": "code",
      "source": "from tensorflow.keras.models import load_model\nmodel1 = load_model('model1/') ",
      "metadata": {
        "source_hash": "b189ce9d",
        "execution_start": 1689622785468,
        "execution_millis": 1769,
        "deepnote_to_be_reexecuted": false,
        "cell_id": "73a88581051b4bb880f600e895a6cdf7",
        "deepnote_cell_type": "code"
      },
      "outputs": [],
      "execution_count": 13
    },
    {
      "cell_type": "markdown",
      "source": "Creamos un dataset con una columna de predicción y otra columna con los datos reales.",
      "metadata": {
        "formattedRanges": [],
        "cell_id": "b5892f196f0b4554bf3563ad86246b1d",
        "deepnote_cell_type": "text-cell-p"
      }
    },
    {
      "cell_type": "code",
      "source": "train_predictions = model1.predict(X_train).flatten() #EL shape del X_train es array[[],[]...] por eso aplicamos flatten  \ntrain_results = pd.DataFrame(data={'Train Predictions':train_predictions, 'Actuals':y_train})\ntrain_results ",
      "metadata": {
        "source_hash": "24895496",
        "execution_start": 1689622787235,
        "execution_millis": 7978,
        "deepnote_to_be_reexecuted": false,
        "cell_id": "6f758a93c9d945c58a623b32c6e0405f",
        "deepnote_cell_type": "code"
      },
      "outputs": [
        {
          "name": "stdout",
          "text": "1875/1875 [==============================] - 7s 3ms/step\n",
          "output_type": "stream"
        },
        {
          "output_type": "execute_result",
          "execution_count": 14,
          "data": {
            "application/vnd.deepnote.dataframe.v3+json": {
              "column_count": 2,
              "row_count": 60000,
              "columns": [
                {
                  "name": "Train Predictions",
                  "dtype": "float32",
                  "stats": {
                    "unique_count": 59922,
                    "nan_count": 0,
                    "min": "-21.219032287597656",
                    "max": "33.81952667236328",
                    "histogram": [
                      {
                        "bin_start": -21.219032287597656,
                        "bin_end": -15.715176582336426,
                        "count": 125
                      },
                      {
                        "bin_start": -15.715176582336426,
                        "bin_end": -10.211320877075195,
                        "count": 538
                      },
                      {
                        "bin_start": -10.211320877075195,
                        "bin_end": -4.707464694976807,
                        "count": 1954
                      },
                      {
                        "bin_start": -4.707464694976807,
                        "bin_end": 0.7963913083076477,
                        "count": 7002
                      },
                      {
                        "bin_start": 0.7963913083076477,
                        "bin_end": 6.3002471923828125,
                        "count": 12289
                      },
                      {
                        "bin_start": 6.3002471923828125,
                        "bin_end": 11.804102897644043,
                        "count": 13732
                      },
                      {
                        "bin_start": 11.804102897644043,
                        "bin_end": 17.307958602905273,
                        "count": 13594
                      },
                      {
                        "bin_start": 17.307958602905273,
                        "bin_end": 22.81181526184082,
                        "count": 7656
                      },
                      {
                        "bin_start": 22.81181526184082,
                        "bin_end": 28.315670013427734,
                        "count": 2555
                      },
                      {
                        "bin_start": 28.315670013427734,
                        "bin_end": 33.81952667236328,
                        "count": 555
                      }
                    ]
                  }
                },
                {
                  "name": "Actuals",
                  "dtype": "float64"
                },
                {
                  "name": "_deepnote_index_column",
                  "dtype": "int64"
                }
              ],
              "rows": [
                {
                  "Train Predictions": -9.867278099060059,
                  "Actuals": -9.67,
                  "_deepnote_index_column": 0
                },
                {
                  "Train Predictions": -9.791791915893555,
                  "Actuals": -9.17,
                  "_deepnote_index_column": 1
                },
                {
                  "Train Predictions": -8.919350624084473,
                  "Actuals": -8.1,
                  "_deepnote_index_column": 2
                },
                {
                  "Train Predictions": -7.4094061851501465,
                  "Actuals": -7.66,
                  "_deepnote_index_column": 3
                },
                {
                  "Train Predictions": -7.149868965148926,
                  "Actuals": -7.04,
                  "_deepnote_index_column": 4
                },
                {
                  "Train Predictions": -6.586050510406494,
                  "Actuals": -7.41,
                  "_deepnote_index_column": 5
                },
                {
                  "Train Predictions": -7.403177261352539,
                  "Actuals": -6.87,
                  "_deepnote_index_column": 6
                },
                {
                  "Train Predictions": -6.621773719787598,
                  "Actuals": -5.89,
                  "_deepnote_index_column": 7
                },
                {
                  "Train Predictions": -5.193928241729736,
                  "Actuals": -5.94,
                  "_deepnote_index_column": 8
                },
                {
                  "Train Predictions": -5.69028902053833,
                  "Actuals": -5.69,
                  "_deepnote_index_column": 9
                }
              ]
            },
            "text/plain": "       Train Predictions  Actuals\n0              -9.867278    -9.67\n1              -9.791792    -9.17\n2              -8.919351    -8.10\n3              -7.409406    -7.66\n4              -7.149869    -7.04\n...                  ...      ...\n59995           6.141811     6.07\n59996           7.147829     9.88\n59997          12.364724    13.53\n59998          15.836199    15.43\n59999          16.597719    15.54\n\n[60000 rows x 2 columns]",
            "text/html": "<div>\n<style scoped>\n    .dataframe tbody tr th:only-of-type {\n        vertical-align: middle;\n    }\n\n    .dataframe tbody tr th {\n        vertical-align: top;\n    }\n\n    .dataframe thead th {\n        text-align: right;\n    }\n</style>\n<table border=\"1\" class=\"dataframe\">\n  <thead>\n    <tr style=\"text-align: right;\">\n      <th></th>\n      <th>Train Predictions</th>\n      <th>Actuals</th>\n    </tr>\n  </thead>\n  <tbody>\n    <tr>\n      <th>0</th>\n      <td>-9.867278</td>\n      <td>-9.67</td>\n    </tr>\n    <tr>\n      <th>1</th>\n      <td>-9.791792</td>\n      <td>-9.17</td>\n    </tr>\n    <tr>\n      <th>2</th>\n      <td>-8.919351</td>\n      <td>-8.10</td>\n    </tr>\n    <tr>\n      <th>3</th>\n      <td>-7.409406</td>\n      <td>-7.66</td>\n    </tr>\n    <tr>\n      <th>4</th>\n      <td>-7.149869</td>\n      <td>-7.04</td>\n    </tr>\n    <tr>\n      <th>...</th>\n      <td>...</td>\n      <td>...</td>\n    </tr>\n    <tr>\n      <th>59995</th>\n      <td>6.141811</td>\n      <td>6.07</td>\n    </tr>\n    <tr>\n      <th>59996</th>\n      <td>7.147829</td>\n      <td>9.88</td>\n    </tr>\n    <tr>\n      <th>59997</th>\n      <td>12.364724</td>\n      <td>13.53</td>\n    </tr>\n    <tr>\n      <th>59998</th>\n      <td>15.836199</td>\n      <td>15.43</td>\n    </tr>\n    <tr>\n      <th>59999</th>\n      <td>16.597719</td>\n      <td>15.54</td>\n    </tr>\n  </tbody>\n</table>\n<p>60000 rows × 2 columns</p>\n</div>"
          },
          "metadata": {}
        }
      ],
      "execution_count": 14
    },
    {
      "cell_type": "markdown",
      "source": "Graficamos juntos, los 500 primeros datos reales y datos predichos.  ",
      "metadata": {
        "formattedRanges": [],
        "cell_id": "67bce04ec5f64aaea74c6b6392cf3148",
        "deepnote_cell_type": "text-cell-p"
      }
    },
    {
      "cell_type": "code",
      "source": "import matplotlib.pyplot as plt\nplt.plot(train_results['Train Predictions'][:500])\nplt.plot(train_results['Actuals'][:500])",
      "metadata": {
        "source_hash": "27a73191",
        "execution_start": 1689622794758,
        "execution_millis": 109,
        "deepnote_to_be_reexecuted": false,
        "cell_id": "c73f5326f1d34bc2b14134bd0d37f693",
        "deepnote_cell_type": "code"
      },
      "outputs": [
        {
          "output_type": "execute_result",
          "execution_count": 15,
          "data": {
            "text/plain": "[<matplotlib.lines.Line2D at 0x7f510047f580>]"
          },
          "metadata": {}
        },
        {
          "data": {
            "text/plain": "<Figure size 640x480 with 1 Axes>",
            "image/png": "[encoded data removed]"
          },
          "metadata": {
            "image/png": {
              "width": 554,
              "height": 413
            }
          },
          "output_type": "display_data"
        }
      ],
      "execution_count": 15
    },
    {
      "cell_type": "markdown",
      "source": "Vemos como están los datos de validación que utilizó la red neuronal para disminuir el 'validation loss'.  ",
      "metadata": {
        "formattedRanges": [],
        "cell_id": "b6decfffe8d048e4989aa0279f89a28c",
        "deepnote_cell_type": "text-cell-p"
      }
    },
    {
      "cell_type": "code",
      "source": "val_predictions = model1.predict(X_val).flatten()\nval_results = pd.DataFrame(data={'Val Predictions':val_predictions, 'Actuals':y_val})\nval_results ",
      "metadata": {
        "source_hash": "5bfea06f",
        "execution_start": 1689622795019,
        "execution_millis": 1451,
        "deepnote_to_be_reexecuted": false,
        "cell_id": "f5e2de576f324c57a36d00fdaee0675b",
        "deepnote_cell_type": "code"
      },
      "outputs": [
        {
          "name": "stdout",
          "text": "157/157 [==============================] - 1s 3ms/step\n",
          "output_type": "stream"
        },
        {
          "output_type": "execute_result",
          "execution_count": 16,
          "data": {
            "application/vnd.deepnote.dataframe.v3+json": {
              "column_count": 2,
              "row_count": 5000,
              "columns": [
                {
                  "name": "Val Predictions",
                  "dtype": "float32",
                  "stats": {
                    "unique_count": 5000,
                    "nan_count": 0,
                    "min": "-13.812186241149902",
                    "max": "29.51727867126465",
                    "histogram": [
                      {
                        "bin_start": -13.812186241149902,
                        "bin_end": -9.479239463806152,
                        "count": 22
                      },
                      {
                        "bin_start": -9.479239463806152,
                        "bin_end": -5.1462931632995605,
                        "count": 28
                      },
                      {
                        "bin_start": -5.1462931632995605,
                        "bin_end": -0.8133467435836792,
                        "count": 440
                      },
                      {
                        "bin_start": -0.8133467435836792,
                        "bin_end": 3.519599676132202,
                        "count": 1184
                      },
                      {
                        "bin_start": 3.519599676132202,
                        "bin_end": 7.852546215057373,
                        "count": 1382
                      },
                      {
                        "bin_start": 7.852546215057373,
                        "bin_end": 12.185492515563965,
                        "count": 1104
                      },
                      {
                        "bin_start": 12.185492515563965,
                        "bin_end": 16.5184383392334,
                        "count": 529
                      },
                      {
                        "bin_start": 16.5184383392334,
                        "bin_end": 20.85138511657715,
                        "count": 235
                      },
                      {
                        "bin_start": 20.85138511657715,
                        "bin_end": 25.1843318939209,
                        "count": 68
                      },
                      {
                        "bin_start": 25.1843318939209,
                        "bin_end": 29.51727867126465,
                        "count": 8
                      }
                    ]
                  }
                },
                {
                  "name": "Actuals",
                  "dtype": "float64",
                  "stats": {
                    "unique_count": 2076,
                    "nan_count": 0,
                    "min": "-13.67",
                    "max": "29.77",
                    "histogram": [
                      {
                        "bin_start": -13.67,
                        "bin_end": -9.326,
                        "count": 23
                      },
                      {
                        "bin_start": -9.326,
                        "bin_end": -4.982000000000001,
                        "count": 28
                      },
                      {
                        "bin_start": -4.982000000000001,
                        "bin_end": -0.6380000000000017,
                        "count": 484
                      },
                      {
                        "bin_start": -0.6380000000000017,
                        "bin_end": 3.7059999999999977,
                        "count": 1187
                      },
                      {
                        "bin_start": 3.7059999999999977,
                        "bin_end": 8.049999999999999,
                        "count": 1393
                      },
                      {
                        "bin_start": 8.049999999999999,
                        "bin_end": 12.393999999999997,
                        "count": 1092
                      },
                      {
                        "bin_start": 12.393999999999997,
                        "bin_end": 16.737999999999992,
                        "count": 508
                      },
                      {
                        "bin_start": 16.737999999999992,
                        "bin_end": 21.081999999999994,
                        "count": 210
                      },
                      {
                        "bin_start": 21.081999999999994,
                        "bin_end": 25.425999999999995,
                        "count": 67
                      },
                      {
                        "bin_start": 25.425999999999995,
                        "bin_end": 29.77,
                        "count": 8
                      }
                    ]
                  }
                },
                {
                  "name": "_deepnote_index_column",
                  "dtype": "int64"
                }
              ],
              "rows": [
                {
                  "Val Predictions": 15.610916137695312,
                  "Actuals": 14.02,
                  "_deepnote_index_column": 0
                },
                {
                  "Val Predictions": 13.260108947753906,
                  "Actuals": 13.67,
                  "_deepnote_index_column": 1
                },
                {
                  "Val Predictions": 13.037940979003906,
                  "Actuals": 12.27,
                  "_deepnote_index_column": 2
                },
                {
                  "Val Predictions": 11.504707336425781,
                  "Actuals": 11.19,
                  "_deepnote_index_column": 3
                },
                {
                  "Val Predictions": 10.441910743713379,
                  "Actuals": 10.85,
                  "_deepnote_index_column": 4
                },
                {
                  "Val Predictions": 10.411636352539062,
                  "Actuals": 9.95,
                  "_deepnote_index_column": 5
                },
                {
                  "Val Predictions": 9.48851490020752,
                  "Actuals": 9.98,
                  "_deepnote_index_column": 6
                },
                {
                  "Val Predictions": 9.863574981689453,
                  "Actuals": 8.64,
                  "_deepnote_index_column": 7
                },
                {
                  "Val Predictions": 8.051346778869629,
                  "Actuals": 8.64,
                  "_deepnote_index_column": 8
                },
                {
                  "Val Predictions": 8.392641067504883,
                  "Actuals": 8.57,
                  "_deepnote_index_column": 9
                }
              ]
            },
            "text/plain": "      Val Predictions  Actuals\n0           15.610916    14.02\n1           13.260109    13.67\n2           13.037941    12.27\n3           11.504707    11.19\n4           10.441911    10.85\n...               ...      ...\n4995        17.442650    18.27\n4996        17.440451    17.85\n4997        17.178709    16.65\n4998        15.930517    15.85\n4999        15.112056    15.09\n\n[5000 rows x 2 columns]",
            "text/html": "<div>\n<style scoped>\n    .dataframe tbody tr th:only-of-type {\n        vertical-align: middle;\n    }\n\n    .dataframe tbody tr th {\n        vertical-align: top;\n    }\n\n    .dataframe thead th {\n        text-align: right;\n    }\n</style>\n<table border=\"1\" class=\"dataframe\">\n  <thead>\n    <tr style=\"text-align: right;\">\n      <th></th>\n      <th>Val Predictions</th>\n      <th>Actuals</th>\n    </tr>\n  </thead>\n  <tbody>\n    <tr>\n      <th>0</th>\n      <td>15.610916</td>\n      <td>14.02</td>\n    </tr>\n    <tr>\n      <th>1</th>\n      <td>13.260109</td>\n      <td>13.67</td>\n    </tr>\n    <tr>\n      <th>2</th>\n      <td>13.037941</td>\n      <td>12.27</td>\n    </tr>\n    <tr>\n      <th>3</th>\n      <td>11.504707</td>\n      <td>11.19</td>\n    </tr>\n    <tr>\n      <th>4</th>\n      <td>10.441911</td>\n      <td>10.85</td>\n    </tr>\n    <tr>\n      <th>...</th>\n      <td>...</td>\n      <td>...</td>\n    </tr>\n    <tr>\n      <th>4995</th>\n      <td>17.442650</td>\n      <td>18.27</td>\n    </tr>\n    <tr>\n      <th>4996</th>\n      <td>17.440451</td>\n      <td>17.85</td>\n    </tr>\n    <tr>\n      <th>4997</th>\n      <td>17.178709</td>\n      <td>16.65</td>\n    </tr>\n    <tr>\n      <th>4998</th>\n      <td>15.930517</td>\n      <td>15.85</td>\n    </tr>\n    <tr>\n      <th>4999</th>\n      <td>15.112056</td>\n      <td>15.09</td>\n    </tr>\n  </tbody>\n</table>\n<p>5000 rows × 2 columns</p>\n</div>"
          },
          "metadata": {}
        }
      ],
      "execution_count": 16
    },
    {
      "cell_type": "markdown",
      "source": "Vemos como se comportan, los datos reales con los de validación.  ",
      "metadata": {
        "formattedRanges": [],
        "cell_id": "57364d4986c04c34bce4d671f69ff02f",
        "deepnote_cell_type": "text-cell-p"
      }
    },
    {
      "cell_type": "code",
      "source": "plt.plot(val_results['Val Predictions'][:500])\nplt.plot(val_results['Actuals'][:500])",
      "metadata": {
        "source_hash": "55f67264",
        "execution_start": 1689622796152,
        "execution_millis": 126,
        "deepnote_to_be_reexecuted": false,
        "cell_id": "750437c85c0d4eed8735c9812135ae6b",
        "deepnote_cell_type": "code"
      },
      "outputs": [
        {
          "output_type": "execute_result",
          "execution_count": 17,
          "data": {
            "text/plain": "[<matplotlib.lines.Line2D at 0x7f510052cb80>]"
          },
          "metadata": {}
        },
        {
          "data": {
            "text/plain": "<Figure size 640x480 with 1 Axes>",
            "image/png": "[encoded data removed]"
          },
          "metadata": {
            "image/png": {
              "width": 543,
              "height": 413
            }
          },
          "output_type": "display_data"
        }
      ],
      "execution_count": 17
    },
    {
      "cell_type": "markdown",
      "source": "<a style='text-decoration:none;line-height:16px;display:flex;color:#5B5B62;padding:10px;justify-content:end;' href='https://deepnote.com?utm_source=created-in-deepnote-cell&projectId=2bea62e9-8d22-46a6-9eb4-51194a5da2d7' target=\"_blank\">\n<img alt='Created in deepnote.com' style='display:inline;max-height:16px;margin:0px;margin-right:7.5px;' src='data:image/svg+xml;base64,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' > </img>\nCreated in <span style='font-weight:600;margin-left:4px;'>Deepnote</span></a>",
      "metadata": {
        "created_in_deepnote_cell": true,
        "deepnote_cell_type": "markdown"
      }
    }
  ],
  "nbformat": 4,
  "nbformat_minor": 0,
  "metadata": {
    "deepnote": {},
    "orig_nbformat": 2,
    "deepnote_notebook_id": "93cf757657d4406f83051ceb56675c39",
    "deepnote_execution_queue": []
  }
}